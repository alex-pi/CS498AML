{
 "cells": [
  {
   "cell_type": "code",
   "execution_count": 1,
   "metadata": {
    "collapsed": true
   },
   "outputs": [],
   "source": [
    "%matplotlib inline\n",
    "%load_ext autoreload\n",
    "%autoreload 2\n",
    "\n",
    "import matplotlib.pyplot as plt\n",
    "import numpy as np\n",
    "import seaborn as sns\n",
    "import pandas as pd\n",
    "\n",
    "from scipy.special import logsumexp\n"
   ]
  },
  {
   "cell_type": "code",
   "execution_count": 11,
   "outputs": [],
   "source": [
    "perform_computation = True\n",
    "data_file = f'./docword.nips.txt'\n",
    "\n",
    "with open(data_file) as fh:\n",
    "    for line_num, line in enumerate(fh):\n",
    "        if line_num == 0:\n",
    "            N = int(line) # Number of documents\n",
    "        elif line_num == 1:\n",
    "            d = int(line) # Number of words\n",
    "            X = np.zeros((N, d))\n",
    "        elif line_num == 2:\n",
    "            NNZ = int(line)\n",
    "        else:\n",
    "            doc_id, word_id, count = tuple([int(a) for a in line.split(' ')])\n",
    "            X[doc_id-1, word_id-1] = count\n",
    "\n",
    "assert X[X>0].size == NNZ"
   ],
   "metadata": {
    "collapsed": false,
    "pycharm": {
     "name": "#%%\n"
    }
   }
  },
  {
   "cell_type": "code",
   "execution_count": 12,
   "outputs": [],
   "source": [
    "with open('./vocab.nips.txt') as fh2:\n",
    "    words = [line.rstrip() for line in fh2]\n",
    "\n",
    "assert len(words) == d"
   ],
   "metadata": {
    "collapsed": false,
    "pycharm": {
     "name": "#%%\n"
    }
   }
  },
  {
   "cell_type": "code",
   "execution_count": 4,
   "outputs": [],
   "source": [
    "def find_logW(X, log_P, log_pi):\n",
    "    \"\"\"\n",
    "    Compute the weights W from the E step of expectation maximization.\n",
    "\n",
    "        Parameters:\n",
    "                X (np.array): A numpy array of the shape (N,d) where N is the number of documents and d is the number of words.\n",
    "                log_P (np.array): A numpy array of the shape (t,d) where t is the number of topics for clustering and d is the number of words.\n",
    "                log_pi (np.array): A numpy array of the shape (t,1) where t is the number of topics for clustering.\n",
    "\n",
    "        Returns:\n",
    "                log_W (np.array): A numpy array of the shape (N,t) where N is the number of documents and t is the number of topics for clustering.\n",
    "    \"\"\"\n",
    "    N, d = X.shape\n",
    "    t = log_pi.shape[0]\n",
    "\n",
    "    # your code here\n",
    "    R_ = (np.ones((N, 1)) @ log_pi.T) + (X @ log_P.T)\n",
    "    S_ = logsumexp(R_, axis=1, keepdims=True)\n",
    "    log_W = R_ - S_\n",
    "\n",
    "    assert log_W.shape == (N, t)\n",
    "    return log_W\n",
    "\n",
    "some_X = 1 + (np.arange(35, dtype='int64').reshape(7,5) ** 13) % 20\n",
    "some_log_P = np.log(some_X[:3, :]/np.sum(some_X[:3, :], axis=1).reshape(-1,1))\n",
    "some_log_pi = np.log(some_X[:3, 0]/np.sum(some_X[:3, 0])).reshape(-1,1)\n",
    "some_log_W = find_logW(some_X, some_log_P, some_log_pi)\n",
    "\n",
    "assert np.array_equal(some_log_W.round(2), np.array([[ -0.  ,  -9.07,  -6.1 ],\n",
    "                                                     [-24.61,  -0.  , -12.27],\n",
    "                                                     [-12.59,  -6.01,  -0.  ],\n",
    "                                                     [-23.81,  -0.  , -29.1 ],\n",
    "                                                     [ -0.  ,  -9.07,  -6.1 ],\n",
    "                                                     [-24.61,  -0.  , -14.62],\n",
    "                                                     [-29.96,  -0.  , -10.82]]))"
   ],
   "metadata": {
    "collapsed": false,
    "pycharm": {
     "name": "#%%\n"
    }
   }
  },
  {
   "cell_type": "code",
   "execution_count": 5,
   "outputs": [],
   "source": [
    "def update_logP(X, log_W, eps=1e-100):\n",
    "    \"\"\"\n",
    "    Compute the parameters log(P) from the M step of expectation maximization.\n",
    "\n",
    "        Parameters:\n",
    "                X (np.array): A numpy array of the shape (N,d) where N is the number of documents and d is the number of words.\n",
    "                log_W (np.array): A numpy array of the shape (N,t) where N is the number of documents and t is the number of topics for clustering.\n",
    "\n",
    "        Returns:\n",
    "                log_P (np.array): A numpy array of the shape (t,d) where t is the number of topics for clustering and d is the number of words.\n",
    "    \"\"\"\n",
    "    N, d = X.shape\n",
    "    t = log_W.shape[1]\n",
    "    assert log_W.shape[0] == N\n",
    "\n",
    "    # your code here\n",
    "    W = np.exp(log_W)\n",
    "    E_ = np.log(W.T @ X + eps)\n",
    "    F_ = logsumexp(E_, axis=1, keepdims=True)\n",
    "    log_P = E_ - F_\n",
    "\n",
    "    assert log_P.shape == (t, d)\n",
    "    return log_P\n",
    "\n",
    "some_X = 1 + (np.arange(35, dtype='int64').reshape(7,5) ** 13) % 20\n",
    "some_log_P = np.log(some_X[:3, :]/np.sum(some_X[:3, :], axis=1).reshape(-1,1))\n",
    "some_log_pi = np.log(some_X[:3, 0]/np.sum(some_X[:3, 0])).reshape(-1,1)\n",
    "some_log_W = find_logW(some_X, some_log_P, some_log_pi)\n",
    "\n",
    "assert np.array_equal(update_logP(some_X, some_log_W, eps=1e-100).round(2), np.array([[-3.22, -2.53, -0.65, -1.83, -1.61],\n",
    "                                                                                      [-1.87, -1.16, -1.81, -1.86, -1.55],\n",
    "                                                                                      [-3.8 , -1.32, -1.24, -1.17, -2.2 ]]))"
   ],
   "metadata": {
    "collapsed": false,
    "pycharm": {
     "name": "#%%\n"
    }
   }
  },
  {
   "cell_type": "code",
   "execution_count": 9,
   "outputs": [],
   "source": [
    "def update_log_pi(log_W):\n",
    "    \"\"\"\n",
    "    Compute the prior pi from the M step of expectation maximization.\n",
    "\n",
    "        Parameters:\n",
    "                log_W (np.array): A numpy array of the shape (N,t) where N is the number of documents and t is the number of topics for clustering.\n",
    "\n",
    "        Returns:\n",
    "                log_pi (np.array): A numpy array of the shape (t,1) where t is the number of topics for clustering.\n",
    "    \"\"\"\n",
    "    N, t = log_W.shape\n",
    "\n",
    "    # your code here\n",
    "    log_pi = logsumexp(log_W.T, axis=1, keepdims=True) - np.log(N)\n",
    "\n",
    "    assert log_pi.shape == (t,1)\n",
    "    return log_pi\n",
    "\n",
    "some_X = 1 + (np.arange(35, dtype='int64').reshape(7,5) ** 13) % 20\n",
    "some_log_P = np.log(some_X[:3, :]/np.sum(some_X[:3, :], axis=1).reshape(-1,1))\n",
    "some_log_pi = np.log(some_X[:3, 0]/np.sum(some_X[:3, 0])).reshape(-1,1)\n",
    "some_log_W = find_logW(some_X, some_log_P, some_log_pi)\n",
    "\n",
    "assert np.array_equal(update_log_pi(some_log_W).round(2), np.array([[-1.26],\n",
    "                                                                    [-0.56],\n",
    "                                                                    [-1.94]]))"
   ],
   "metadata": {
    "collapsed": false,
    "pycharm": {
     "name": "#%%\n"
    }
   }
  },
  {
   "cell_type": "code",
   "execution_count": 10,
   "outputs": [],
   "source": [
    "def TopicModel(X, t, iterations=100, seed=12345):\n",
    "    N, d = X.shape\n",
    "\n",
    "    np_random = np.random.RandomState(seed=seed)\n",
    "    pi_init = np.ones((t,1))/float(t)\n",
    "\n",
    "    if True:\n",
    "        P_init = np_random.uniform(0, 1, (t, d))\n",
    "    else:\n",
    "        X_copy = X.copy()\n",
    "        np_random.shuffle(X_copy)\n",
    "\n",
    "        c = N//t\n",
    "        P_init = np.zeros((t, d))\n",
    "        for k in range(t):\n",
    "            P_init[k, :] = (X_copy[(c*k):(c*(k+1)), :]).sum(axis=0) + 1e-1\n",
    "\n",
    "    P_init = P_init/P_init.sum(axis=1).reshape(-1, 1)\n",
    "\n",
    "    log_pi = np.log(pi_init) # log_pi.shape == (t,1)\n",
    "    log_P = np.log(P_init) # log_P.shape == (t,d)\n",
    "    assert log_pi.shape == (t,1)\n",
    "\n",
    "    log_W = None\n",
    "    for iteration in range(iterations):\n",
    "        print('.', end='')\n",
    "        #The E-Step\n",
    "        log_W = find_logW(X, log_P, log_pi)\n",
    "\n",
    "        #The M-Step\n",
    "        log_P = update_logP(X, log_W)\n",
    "        log_pi = update_log_pi(log_W)\n",
    "\n",
    "    return log_pi, log_P, log_W"
   ],
   "metadata": {
    "collapsed": false,
    "pycharm": {
     "name": "#%%\n"
    }
   }
  },
  {
   "cell_type": "code",
   "execution_count": 13,
   "outputs": [
    {
     "name": "stdout",
     "output_type": "stream",
     "text": [
      "...................................................................................................."
     ]
    }
   ],
   "source": [
    "if perform_computation:\n",
    "    log_pi, log_P, log_W = TopicModel(X, t=30, iterations=100, seed=12345)\n"
   ],
   "metadata": {
    "collapsed": false,
    "pycharm": {
     "name": "#%%\n"
    }
   }
  },
  {
   "cell_type": "code",
   "execution_count": 15,
   "outputs": [
    {
     "data": {
      "text/plain": "<Figure size 960x360 with 1 Axes>",
      "image/png": "[encoded data removed]"
     },
     "metadata": {
      "needs_background": "light"
     },
     "output_type": "display_data"
    }
   ],
   "source": [
    "if perform_computation:\n",
    "    fig, ax=plt.subplots(figsize=(8,3), dpi=120)\n",
    "    a = np.exp(log_pi)\n",
    "    sns.barplot(x=np.arange(30), y=np.exp(log_pi).reshape(-1), ax=ax)\n",
    "    ax.set_title(f'Topic Frequencies')\n",
    "    ax.set_xlabel(f'Topic Number')\n",
    "    _ = ax.set_ylabel(f'Topic Density')"
   ],
   "metadata": {
    "collapsed": false,
    "pycharm": {
     "name": "#%%\n"
    }
   }
  }
 ],
 "metadata": {
  "kernelspec": {
   "display_name": "Python 3",
   "language": "python",
   "name": "python3"
  },
  "language_info": {
   "codemirror_mode": {
    "name": "ipython",
    "version": 2
   },
   "file_extension": ".py",
   "mimetype": "text/x-python",
   "name": "python",
   "nbconvert_exporter": "python",
   "pygments_lexer": "ipython2",
   "version": "2.7.6"
  }
 },
 "nbformat": 4,
 "nbformat_minor": 0
}