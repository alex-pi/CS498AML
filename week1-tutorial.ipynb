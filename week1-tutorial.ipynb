{
 "cells": [
  {
   "cell_type": "code",
   "execution_count": 1,
   "metadata": {
    "collapsed": true
   },
   "outputs": [],
   "source": [
    "import matplotlib.pyplot as plt\n",
    "import numpy as np"
   ]
  },
  {
   "cell_type": "code",
   "execution_count": 3,
   "outputs": [
    {
     "name": "stdout",
     "output_type": "stream",
     "text": [
      "hello\n",
      "0\n",
      "0.1\n",
      "0.2\n",
      "0.3\n",
      "0.4\n",
      "0.5\n",
      "0.6\n",
      "0.7\n",
      "0.8\n",
      "0.9\n"
     ]
    }
   ],
   "source": [
    "fp = 0\n",
    "print('hello')\n",
    "while fp != 1:\n",
    "    print(fp)\n",
    "    fp = round(fp + 0.1, 1)"
   ],
   "metadata": {
    "collapsed": false,
    "pycharm": {
     "name": "#%%\n"
    }
   }
  },
  {
   "cell_type": "code",
   "execution_count": 4,
   "outputs": [
    {
     "name": "stdout",
     "output_type": "stream",
     "text": [
      "<class 'float'>\n",
      "1.0\n",
      "0.0\n"
     ]
    }
   ],
   "source": [
    "# Question 1\n",
    "x = 1.0 # Your answer here.\n",
    "y = -1e19 # Your answer here.\n",
    "z = 1e19 # Your answer here.\n",
    "print(type(x))\n",
    "print(x + (z + y))\n",
    "print((x + y) + z)\n",
    "assert (x + y) + z != x + (y + z), \"Incorrect counter-example: LHS equals RHS\""
   ],
   "metadata": {
    "collapsed": false,
    "pycharm": {
     "name": "#%%\n"
    }
   }
  },
  {
   "cell_type": "code",
   "execution_count": 5,
   "outputs": [
    {
     "name": "stdout",
     "output_type": "stream",
     "text": [
      "<class 'float'>\n",
      "3.0000000000000004\n",
      "3.0\n"
     ]
    }
   ],
   "source": [
    "# Question 2 Sample solution\n",
    "a = 10.0\n",
    "b = 0.2\n",
    "c = 0.1\n",
    "print(type(a))\n",
    "print(a * (b + c))\n",
    "print(a * b + a * c)\n",
    "assert a * (b + c) != a * b + a * c, \"Incorrect counter-example: LHS equals RHS\""
   ],
   "metadata": {
    "collapsed": false,
    "pycharm": {
     "name": "#%%\n"
    }
   }
  },
  {
   "cell_type": "code",
   "execution_count": 6,
   "outputs": [
    {
     "data": {
      "text/plain": "array([-1.35575359, -0.47699693, -0.70617785])"
     },
     "execution_count": 6,
     "metadata": {},
     "output_type": "execute_result"
    }
   ],
   "source": [
    "a = np.array([1,2,3])\n",
    "b = np.array([4,5,6])\n",
    "np.log(a/(10-a)) + np.sin(a)"
   ],
   "metadata": {
    "collapsed": false,
    "pycharm": {
     "name": "#%%\n"
    }
   }
  },
  {
   "cell_type": "code",
   "execution_count": 7,
   "outputs": [
    {
     "name": "stdout",
     "output_type": "stream",
     "text": [
      "[[1 2]\n",
      " [6 8]]\n",
      "[[1 2]\n",
      " [6 8]]\n",
      "[[1]\n",
      " [2]]\n",
      "[[1 2]\n",
      " [6 8]]\n"
     ]
    }
   ],
   "source": [
    "def diag_left_mult1(a,A):\n",
    "    a_diag = np.diag(a)\n",
    "    return a_diag @ A\n",
    "\n",
    "def diag_left_mult2(a,A):\n",
    "\n",
    "    return a.reshape(-1, 1) * A\n",
    "\n",
    "a = np.array([1,2])\n",
    "A = np.array([[1,2],[3,4]])\n",
    "\n",
    "print(diag_left_mult1(a,A))\n",
    "print(diag_left_mult2(a,A))\n",
    "\n",
    "print(a[:, np.newaxis])\n",
    "print(A * a[:, np.newaxis])"
   ],
   "metadata": {
    "collapsed": false,
    "pycharm": {
     "name": "#%%\n"
    }
   }
  },
  {
   "cell_type": "code",
   "execution_count": 8,
   "outputs": [
    {
     "name": "stdout",
     "output_type": "stream",
     "text": [
      "1.8171205928321397\n",
      "1.8171205928321397\n"
     ]
    }
   ],
   "source": [
    "def geom_mean1(a):\n",
    "    d = a.shape[0]\n",
    "    prod = np.prod(a)\n",
    "    return prod**(1./d)\n",
    "\n",
    "def geom_mean2(a):\n",
    "    return np.exp(np.mean(np.log(a)))\n",
    "\n",
    "def geom_mean3(a):\n",
    "    return np.exp((np.sum(np.log(a))/a.shape[0]))\n",
    "\n",
    "a = np.array([1,2,3])\n",
    "geom_mean1(a)\n",
    "print(geom_mean2(a))\n",
    "print(geom_mean3(a))"
   ],
   "metadata": {
    "collapsed": false,
    "pycharm": {
     "name": "#%%\n"
    }
   }
  },
  {
   "cell_type": "code",
   "execution_count": 9,
   "outputs": [
    {
     "name": "stdout",
     "output_type": "stream",
     "text": [
      "[[ 3.          1.          0.33333333]\n",
      " [12.          5.          2.66666667]]\n",
      "(1, 3)\n",
      "[[ 3.          1.          0.33333333]\n",
      " [12.          5.          2.66666667]]\n"
     ]
    }
   ],
   "source": [
    "def matrix_manipulate_2(A):\n",
    "    (n,m) = A.shape\n",
    "    # -1 means unknown columns, so it creates a matrix of n rows and 1 column\n",
    "    row_mults = (np.arange(1, n+1)).reshape(-1, 1)\n",
    "    # now a matrix of 1 row and m columns\n",
    "    col_divs = (np.arange(1, m+1)).reshape(1, -1)\n",
    "    print(col_divs.shape)\n",
    "    R = (A * row_mults) / col_divs\n",
    "    return R\n",
    "\n",
    "def matrix_manipulate_1(A):\n",
    "\n",
    "    (n,m) = A.shape\n",
    "    row_multipliers = (1+np.arange(n)).reshape(-1,1)\n",
    "    column_divisors = (1+np.arange(m)).reshape(1,-1).astype(np.float64)\n",
    "    B1 = A * row_multipliers\n",
    "    B = B1 / column_divisors\n",
    "    return B\n",
    "\n",
    "A = np.array([[3,2,1],[6,5,4]])\n",
    "print(matrix_manipulate_1(A))\n",
    "print(matrix_manipulate_2(A))"
   ],
   "metadata": {
    "collapsed": false,
    "pycharm": {
     "name": "#%%\n"
    }
   }
  },
  {
   "cell_type": "code",
   "execution_count": 10,
   "outputs": [
    {
     "name": "stdout",
     "output_type": "stream",
     "text": [
      "[[2 3]\n",
      " [2 3]]\n",
      "[[2 3]\n",
      " [2 3]]\n",
      "[[2 2]\n",
      " [3 3]]\n"
     ]
    }
   ],
   "source": [
    "# This will scale the columns of the right-hand side:\n",
    "print(np.array([2,3]) * np.array([[1,1],[1,1]]))\n",
    "print(np.array([[2,3]]) * np.array([[1,1],[1,1]]))\n",
    "# This will scale the rows of the right-hand side:\n",
    "print(np.array([[2],[3]]) * np.array([[1,1],[1,1]]))"
   ],
   "metadata": {
    "collapsed": false,
    "pycharm": {
     "name": "#%%\n"
    }
   }
  },
  {
   "cell_type": "code",
   "execution_count": 11,
   "outputs": [
    {
     "name": "stdout",
     "output_type": "stream",
     "text": [
      "[95 96 97 98 99]\n"
     ]
    }
   ],
   "source": [
    "def top_five(x):\n",
    "    return np.sort(x)[-5:]\n",
    "\n",
    "np.random.seed(1)\n",
    "A = np.arange(100)\n",
    "np.random.shuffle(A)  # shuffle in place\n",
    "print(top_five(A))\n",
    "\n",
    "assert np.all(np.sort(top_five(A)) == np.array([95,96,97,98,99])), 'Incorrect!'"
   ],
   "metadata": {
    "collapsed": false,
    "pycharm": {
     "name": "#%% Numpy basic indexing\n"
    }
   }
  },
  {
   "cell_type": "code",
   "execution_count": 12,
   "outputs": [
    {
     "name": "stdout",
     "output_type": "stream",
     "text": [
      "(100, 28, 28)\n",
      "(100,)\n",
      "[11 41 62 78 64 89 58 86  0 23 87 15 10 12 66 75  7 17  3 47 57 42 61 55\n",
      " 96 50 54 14 53 39 70 74 28 43 31 88 98 37 76 73 99 71 27 44 18 20 93 46\n",
      " 67 34 22 45 56  9 94 80 49 19 65 33 35  6 48 26 81 85 29 79 32 60 16 13\n",
      " 97 30 21 83 40 69 90 52 24 38 36 84 95  4 82  5  2 72 51 92 25 59 68  1\n",
      " 63 77  8 91]\n",
      "[8 0 1 1 6 9 0 8 6 2 9 2 4 1 4 2 0 9 9 8 6 6 3 4 5 7 2 2 5 3 6 3 1 3 1 6 9\n",
      " 0 0 3 5 1 1 2 1 7 8 5 6 4 3 8 7 5 5 4 2 6 2 8 3 8 3 4 4 9 1 9 7 7 2 7 2 4\n",
      " 8 4 4 4 8 3 7 5 9 9 4 7 8 4 3 9 5 5 3 9 6 4 0 7 4 7]\n"
     ]
    }
   ],
   "source": [
    "def shuffle_dataset(X, y):\n",
    "    # your code here\n",
    "    order = np.arange(X.shape[0])\n",
    "    np.random.shuffle(order)\n",
    "    print(order)\n",
    "\n",
    "    # arrays themselves can be used as indexes\n",
    "    shuffled_X = X[order]\n",
    "    shuffled_y = y[order]\n",
    "\n",
    "    return shuffled_X, shuffled_y\n",
    "\n",
    "# Setting a seed makes every run the same\n",
    "np.random.seed(1)\n",
    "A = np.random.randn(100, 28, 28)\n",
    "print(A.shape)\n",
    "b = np.random.randint(0, 10, size=100)\n",
    "print(b.shape)\n",
    "\n",
    "shuffled_A, shuffled_b = shuffle_dataset(A, b)\n",
    "print(shuffled_b)\n",
    "assert (shuffled_A.argmax() == 44718) and (shuffled_b.argmax() == 5), 'Incorrect!'"
   ],
   "metadata": {
    "collapsed": false,
    "pycharm": {
     "name": "#%% Numpy advanced indexing 1\n"
    }
   }
  },
  {
   "cell_type": "code",
   "execution_count": 13,
   "outputs": [
    {
     "name": "stdout",
     "output_type": "stream",
     "text": [
      "5\n"
     ]
    }
   ],
   "source": [
    "a = np.arange(6).reshape(2,3) + 10\n",
    "# The max value is located in the matrix at position 5\n",
    "# argmax traverses the matrix left to right and top to bottom\n",
    "print(a.argmax())\n"
   ],
   "metadata": {
    "collapsed": false,
    "pycharm": {
     "name": "#%% Explaining argmax\n"
    }
   }
  },
  {
   "cell_type": "code",
   "execution_count": 14,
   "outputs": [
    {
     "name": "stdout",
     "output_type": "stream",
     "text": [
      "[1 2 1 1 0]\n",
      "[2 2 3 1 1]\n",
      "[2 2 3 1 1]\n"
     ]
    }
   ],
   "source": [
    "def sum_adjacent1(a):\n",
    "    b = np.zeros_like(a)\n",
    "    b[:-1] = a[1:]\n",
    "    b[1:] += a[:-1]\n",
    "    return b\n",
    "\n",
    "def sum_adjacent2(a):\n",
    "    b = np.zeros_like(a)\n",
    "    b[:-1] += a[1:]\n",
    "    b[1:] += a[:-1]\n",
    "    return b\n",
    "\n",
    "a = np.array([1,2,1,1,0])\n",
    "print(a)\n",
    "print(sum_adjacent1(a))\n",
    "print(sum_adjacent2(a))"
   ],
   "metadata": {
    "collapsed": false,
    "pycharm": {
     "name": "#%%\n"
    }
   }
  },
  {
   "cell_type": "code",
   "execution_count": 15,
   "outputs": [
    {
     "name": "stdout",
     "output_type": "stream",
     "text": [
      "[[-0.81712059  0.18287941  1.18287941]\n",
      " [-0.93242415  0.06757585  1.06757585]]\n"
     ]
    }
   ],
   "source": [
    "def subtract_geom_mean1(A):\n",
    "    gmeans = np.exp(np.mean(np.log(A), axis=1)).reshape(-1, 1)\n",
    "    return A - gmeans\n",
    "\n",
    "A = np.array([[1,2,3],[4,5,6]])\n",
    "print(subtract_geom_mean1(A))"
   ],
   "metadata": {
    "collapsed": false,
    "pycharm": {
     "name": "#%%\n"
    }
   }
  },
  {
   "cell_type": "code",
   "execution_count": 16,
   "outputs": [
    {
     "name": "stdout",
     "output_type": "stream",
     "text": [
      "This is the ranking of ice cream from lowest to highest score!\n",
      "['Chocolate chip' 'Double chocolate' 'Strawberry' 'Vanilla' 'Chocolate'\n",
      " 'Green tea']\n"
     ]
    }
   ],
   "source": [
    "def rank_ice_creams1(names, scores):\n",
    "    return names[np.argsort(scores)]\n",
    "\n",
    "scores = np.array([7, 8, 6, 3, 4, 10])\n",
    "names = np.array(['Vanilla', 'Chocolate', 'Strawberry', 'Chocolate chip', 'Double chocolate', 'Green tea'])\n",
    "\n",
    "print(\"This is the ranking of ice cream from lowest to highest score!\")\n",
    "print(rank_ice_creams1(names, scores))"
   ],
   "metadata": {
    "collapsed": false,
    "pycharm": {
     "name": "#%%\n"
    }
   }
  },
  {
   "cell_type": "code",
   "execution_count": 17,
   "outputs": [
    {
     "name": "stdout",
     "output_type": "stream",
     "text": [
      "<class 'list'>\n",
      "<class 'numpy.ndarray'>\n",
      "float32\n",
      "[[  5.3   3.1   1.    7.    8.3]\n",
      " [  3.    5.    6.3   4.   45. ]\n",
      " [ 99.    1.  101.2   2.    0.2]\n",
      " [  0.    0.    1.   22.   44. ]]\n",
      "[[ 10.6   3.1   2.    7.   16.6]\n",
      " [  6.    5.   12.6   4.   90. ]\n",
      " [198.    1.  202.4   2.    0.4]\n",
      " [  0.    0.    2.   22.   88. ]]\n",
      "[[ 10.6   0.    2.   22.   16.6]\n",
      " [  6.    1.   12.6   2.   90. ]\n",
      " [198.    5.  202.4   4.    0.4]\n",
      " [  0.    3.1   2.    7.   88. ]]\n",
      "Add a new axis to the array, None and np.newaxis\n",
      "(4, 5)\n",
      "(4, 5, 1)\n",
      "(4, 1, 5)\n",
      "numpy API has methods np.atleast_{1d/2d/3d} to create arrays of atleast\n",
      "that shape. For instance, with np.atleast_3d, a 1-D array of shape (N,)\n",
      "becomes a view of shape (1, N, 1), and a 2-D array of shape (M, N)\n",
      "becomes a view of shape (M, N, 1)\n",
      "(2,)\n",
      "(1, 2, 1)\n",
      "[[[3.]\n",
      "  [4.]]]\n",
      "we will use the np.transpose API for this operation. It allows for different permutations of axes\n",
      "Shape of tensor before transpose (4, 1, 5)\n",
      "Shape of tensor after transpose (5, 1, 4)\n"
     ]
    }
   ],
   "source": [
    "raw_data = [[5.3, 3.1, 1, 7, 8.3], [3, 5, 6.3, 4, 45], [99, 1, 101.2, 2., 0.2], [0., 0, 1., 22, 44.]]\n",
    "data = np.array(raw_data).astype(np.float32)\n",
    "\n",
    "print(type(raw_data))\n",
    "print(type(data))\n",
    "print(data.dtype)\n",
    "print(data)\n",
    "\n",
    "# Double the values stored in even-numbered columns (0, 2, 4, 6 ...)\n",
    "data[:, ::2] *= 2\n",
    "print(data)\n",
    "\n",
    "# Reverse the sequences in odd-numbered columns (1, 3, 5, 7 ...)\n",
    "# When the step is negative it inverts the array\n",
    "data[::-1, 1::2] = data[:, 1::2]\n",
    "## or data[:, 1::2] = data[::-1, 1::2]\n",
    "print(data)\n",
    "\n",
    "print('Add a new axis to the array, None and np.newaxis')\n",
    "# there are a few ways to achieve this. Two of the methods are using 'None' and np.newaxis.\n",
    "print(data.shape)\n",
    "data_shape_expand_none = data[:,:,None]\n",
    "data_shape_expand_newaxis = data[:,np.newaxis,:]\n",
    "print(data_shape_expand_none.shape)\n",
    "print(data_shape_expand_newaxis.shape)\n",
    "\n",
    "print('''numpy API has methods np.atleast_{1d/2d/3d} to create arrays of atleast\n",
    "that shape. For instance, with np.atleast_3d, a 1-D array of shape (N,)\n",
    "becomes a view of shape (1, N, 1), and a 2-D array of shape (M, N)\n",
    "becomes a view of shape (M, N, 1)''')\n",
    "one_d_arr = np.array([3.0, 4.0])\n",
    "print(one_d_arr.shape)\n",
    "three_d_arr = np.atleast_3d(one_d_arr)\n",
    "print(three_d_arr.shape)\n",
    "print(three_d_arr)\n",
    "\n",
    "print('we will use the np.transpose API for this operation. It allows for different permutations of axes')\n",
    "data_p = data[:, np.newaxis]\n",
    "print(\"Shape of tensor before transpose {}\".format(data_p.shape))\n",
    "# 2,1,0 sets the new order for the dimensions\n",
    "data_p = np.transpose(data_p, (2,1,0))\n",
    "print(\"Shape of tensor after transpose {}\".format(data_p.shape))\n"
   ],
   "metadata": {
    "collapsed": false,
    "pycharm": {
     "name": "#%%\n"
    }
   }
  },
  {
   "cell_type": "code",
   "execution_count": 2,
   "outputs": [
    {
     "name": "stdout",
     "output_type": "stream",
     "text": [
      "[[0 1 2 3 4]\n",
      " [5 6 7 8 9]]\n",
      "[[1 1 1 1 1]\n",
      " [1 1 1 1 1]]\n",
      "Method 1:\n",
      "[[0 1 2 3 4]\n",
      " [5 6 7 8 9]\n",
      " [1 1 1 1 1]\n",
      " [1 1 1 1 1]]\n",
      "Method 2:\n",
      "[[0 1 2 3 4]\n",
      " [5 6 7 8 9]\n",
      " [1 1 1 1 1]\n",
      " [1 1 1 1 1]]\n",
      "Method 3:\n",
      "[[0 1 2 3 4]\n",
      " [5 6 7 8 9]\n",
      " [1 1 1 1 1]\n",
      " [1 1 1 1 1]]\n",
      "Method 1:\n",
      "[[0 1 2 3 4 1 1 1 1 1]\n",
      " [5 6 7 8 9 1 1 1 1 1]]\n",
      "Method 2:\n",
      "[[0 1 2 3 4 1 1 1 1 1]\n",
      " [5 6 7 8 9 1 1 1 1 1]]\n",
      "Method 3:\n",
      "[[0 1 2 3 4 1 1 1 1 1]\n",
      " [5 6 7 8 9 1 1 1 1 1]]\n"
     ]
    }
   ],
   "source": [
    "# How to stack two arrays a and b vertically?\n",
    "a = np.arange(10).reshape(2,-1)\n",
    "b = np.repeat(1, 10).reshape(2,-1)\n",
    "print(a)\n",
    "print(b)\n",
    "\n",
    "print('Method 1:')\n",
    "print(np.concatenate([a, b], axis=0))\n",
    "\n",
    "print('Method 2:')\n",
    "print(np.vstack([a, b]))\n",
    "\n",
    "print('Method 3:')\n",
    "print(np.r_[a, b])\n",
    "\n",
    "# Horizontally is the same deal\n",
    "\n",
    "print('Method 1:')\n",
    "print(np.concatenate([a, b], axis=1))\n",
    "\n",
    "print('Method 2:')\n",
    "print(np.hstack([a, b]))\n",
    "\n",
    "print('Method 3:')\n",
    "print(np.c_[a, b])"
   ],
   "metadata": {
    "collapsed": false,
    "pycharm": {
     "name": "#%%\n"
    }
   }
  },
  {
   "cell_type": "code",
   "execution_count": 19,
   "outputs": [
    {
     "name": "stdout",
     "output_type": "stream",
     "text": [
      "(6, 1, 2)\n"
     ]
    }
   ],
   "source": [
    "## Example 1\n",
    "a = np.random.rand(3, 2)\n",
    "b = np.random.rand(2, 3)\n",
    "# Matrix Multiply: a.dot(b) is equivalent to a @ b\n",
    "assert np.any(a.dot(b) == a @ b)\n",
    "\n",
    "## Example 2\n",
    "assert np.any(a.T == a.transpose())\n",
    "\n",
    "## Example 3\n",
    "img1 = np.random.rand(3, 2)\n",
    "img2 = np.random.rand(3, 2)\n",
    "\n",
    "movie = np.concatenate((img1[:,np.newaxis,:], img2[:,np.newaxis,:]), axis=0)\n",
    "print(movie.shape)\n",
    "\n",
    "## Example 4\n",
    "assert np.any(np.zeros(a.shape) == np.zeros_like(a))"
   ],
   "metadata": {
    "collapsed": false,
    "pycharm": {
     "name": "#%%\n"
    }
   }
  },
  {
   "cell_type": "code",
   "execution_count": 20,
   "outputs": [
    {
     "name": "stdout",
     "output_type": "stream",
     "text": [
      "17\n",
      "17\n",
      "17\n"
     ]
    }
   ],
   "source": [
    "#Given two numpy arrays a and b with the same shape (n,), we want to compute the following sum:\n",
    "\n",
    "# 𝑆=∑𝑖=0𝑛−11(𝑎[𝑖]>0.5)×𝑏[𝑖]2.\n",
    "# Here,  1(𝑎[𝑖]>0.5)  is the indicator of  𝑎[𝑖]>0.5 , i.e.  1(𝑎[𝑖]>0.5)=1  if  𝑎[𝑖]>0.5  and it is zero otherwise.\n",
    "# Effectively, we want to find the sum of squares in b corresponding to places where a has value more than 0.5.\n",
    "\n",
    "def selective_sum_squares1(a, b):\n",
    "    return (b[a > 0.5]**2).sum()\n",
    "\n",
    "def selective_sum_squares2(a, b):\n",
    "    return ((a > 0.5) * (b**2)).sum()\n",
    "\n",
    "def selective_sum_squares3(a, b):\n",
    "    return np.where(a>0.5,b**2,0).sum()\n",
    "\n",
    "a = np.array([1, 0.1, 0.5, 0.6])\n",
    "b = np.array([1, 2  , 3  , 4])\n",
    "print(selective_sum_squares1(a,b))\n",
    "print(selective_sum_squares2(a,b))\n",
    "print(selective_sum_squares3(a,b))"
   ],
   "metadata": {
    "collapsed": false,
    "pycharm": {
     "name": "#%%\n"
    }
   }
  },
  {
   "cell_type": "code",
   "execution_count": 21,
   "outputs": [
    {
     "name": "stdout",
     "output_type": "stream",
     "text": [
      "-----------------\n"
     ]
    },
    {
     "data": {
      "text/plain": "<Figure size 432x288 with 1 Axes>",
      "image/png": "[encoded data removed]"
     },
     "metadata": {
      "needs_background": "light"
     },
     "output_type": "display_data"
    }
   ],
   "source": [
    "def select_outliers1(X):\n",
    "    # Doing vector normalization manually\n",
    "    X_edfm = np.sqrt(np.sum((X - X.mean(0))**2, axis=1))\n",
    "    #print(X_edfm)\n",
    "    A_dfm = X_edfm.mean()\n",
    "    outliers = X[X_edfm > A_dfm * 1.5]\n",
    "    return outliers\n",
    "\n",
    "def select_outliers2(X):\n",
    "    # Doing vector normalization with linalg\n",
    "    distances = np.linalg.norm(X - X.mean(0), axis=1)\n",
    "    #print(distances)\n",
    "    outlier_boolean = distances > 1.5 * distances.mean()\n",
    "    outliers = X[outlier_boolean]\n",
    "\n",
    "    return outliers\n",
    "\n",
    "np.random.seed(1)\n",
    "A = np.random.randn(10000,10)\n",
    "\n",
    "outliers1 = select_outliers1(A)\n",
    "#print(outliers1)\n",
    "print('-----------------')\n",
    "outliers2 = select_outliers2(A)\n",
    "#print(outliers2)\n",
    "\n",
    "plt.figure()\n",
    "plt.hist(np.linalg.norm(A - A.mean(0), axis=1), bins=30)\n",
    "plt.hist(np.linalg.norm(outliers2 - A.mean(0), axis=1))\n",
    "plt.title('Distribution of distances (outliers in orange)')\n",
    "plt.show()"
   ],
   "metadata": {
    "collapsed": false,
    "pycharm": {
     "name": "#%%\n"
    }
   }
  },
  {
   "cell_type": "code",
   "execution_count": 23,
   "outputs": [
    {
     "name": "stdout",
     "output_type": "stream",
     "text": [
      "[[0 0]\n",
      " [0 2]\n",
      " [0 7]\n",
      " [1 1]\n",
      " [1 5]\n",
      " [2 4]\n",
      " [2 6]\n",
      " [3 3]]\n"
     ]
    }
   ],
   "source": [
    "b = np.array([1, 2, 1, 4, 3, 2, 3, 1])\n",
    "c = np.array([1, 2, 3, 4]).reshape(-1, 1)\n",
    "print(np.argwhere(c == b))"
   ],
   "metadata": {
    "collapsed": false,
    "pycharm": {
     "name": "#%%\n"
    }
   }
  },
  {
   "cell_type": "code",
   "execution_count": 22,
   "outputs": [],
   "source": [],
   "metadata": {
    "collapsed": false,
    "pycharm": {
     "name": "#%%\n"
    }
   }
  }
 ],
 "metadata": {
  "kernelspec": {
   "display_name": "Python 3",
   "language": "python",
   "name": "python3"
  },
  "language_info": {
   "codemirror_mode": {
    "name": "ipython",
    "version": 2
   },
   "file_extension": ".py",
   "mimetype": "text/x-python",
   "name": "python",
   "nbconvert_exporter": "python",
   "pygments_lexer": "ipython2",
   "version": "2.7.6"
  }
 },
 "nbformat": 4,
 "nbformat_minor": 0
}