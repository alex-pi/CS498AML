{
 "cells": [
  {
   "cell_type": "code",
   "execution_count": 2,
   "metadata": {
    "collapsed": true
   },
   "outputs": [
    {
     "name": "stdout",
     "output_type": "stream",
     "text": [
      "The autoreload extension is already loaded. To reload it, use:\n",
      "  %reload_ext autoreload\n"
     ]
    }
   ],
   "source": [
    "%matplotlib inline\n",
    "%load_ext autoreload\n",
    "%autoreload 2\n",
    "\n",
    "import pandas as pd\n",
    "import numpy as np\n",
    "import seaborn as sns\n",
    "import matplotlib.pyplot as plt\n",
    "\n",
    "#from utils import test_case_checker"
   ]
  },
  {
   "cell_type": "code",
   "execution_count": 3,
   "outputs": [
    {
     "data": {
      "text/plain": "   Pregnancies  Glucose  BloodPressure  SkinThickness  Insulin   BMI  \\\n0            6      148             72             35        0  33.6   \n1            1       85             66             29        0  26.6   \n2            8      183             64              0        0  23.3   \n3            1       89             66             23       94  28.1   \n4            0      137             40             35      168  43.1   \n\n   DiabetesPedigreeFunction  Age  Outcome  \n0                     0.627   50        1  \n1                     0.351   31        0  \n2                     0.672   32        1  \n3                     0.167   21        0  \n4                     2.288   33        1  ",
      "text/html": "<div>\n<style scoped>\n    .dataframe tbody tr th:only-of-type {\n        vertical-align: middle;\n    }\n\n    .dataframe tbody tr th {\n        vertical-align: top;\n    }\n\n    .dataframe thead th {\n        text-align: right;\n    }\n</style>\n<table border=\"1\" class=\"dataframe\">\n  <thead>\n    <tr style=\"text-align: right;\">\n      <th></th>\n      <th>Pregnancies</th>\n      <th>Glucose</th>\n      <th>BloodPressure</th>\n      <th>SkinThickness</th>\n      <th>Insulin</th>\n      <th>BMI</th>\n      <th>DiabetesPedigreeFunction</th>\n      <th>Age</th>\n      <th>Outcome</th>\n    </tr>\n  </thead>\n  <tbody>\n    <tr>\n      <th>0</th>\n      <td>6</td>\n      <td>148</td>\n      <td>72</td>\n      <td>35</td>\n      <td>0</td>\n      <td>33.6</td>\n      <td>0.627</td>\n      <td>50</td>\n      <td>1</td>\n    </tr>\n    <tr>\n      <th>1</th>\n      <td>1</td>\n      <td>85</td>\n      <td>66</td>\n      <td>29</td>\n      <td>0</td>\n      <td>26.6</td>\n      <td>0.351</td>\n      <td>31</td>\n      <td>0</td>\n    </tr>\n    <tr>\n      <th>2</th>\n      <td>8</td>\n      <td>183</td>\n      <td>64</td>\n      <td>0</td>\n      <td>0</td>\n      <td>23.3</td>\n      <td>0.672</td>\n      <td>32</td>\n      <td>1</td>\n    </tr>\n    <tr>\n      <th>3</th>\n      <td>1</td>\n      <td>89</td>\n      <td>66</td>\n      <td>23</td>\n      <td>94</td>\n      <td>28.1</td>\n      <td>0.167</td>\n      <td>21</td>\n      <td>0</td>\n    </tr>\n    <tr>\n      <th>4</th>\n      <td>0</td>\n      <td>137</td>\n      <td>40</td>\n      <td>35</td>\n      <td>168</td>\n      <td>43.1</td>\n      <td>2.288</td>\n      <td>33</td>\n      <td>1</td>\n    </tr>\n  </tbody>\n</table>\n</div>"
     },
     "execution_count": 3,
     "metadata": {},
     "output_type": "execute_result"
    }
   ],
   "source": [
    "df = pd.read_csv('../diabetes.csv')\n",
    "df.head()"
   ],
   "metadata": {
    "collapsed": false,
    "pycharm": {
     "name": "#%%\n"
    }
   }
  },
  {
   "cell_type": "code",
   "execution_count": 60,
   "outputs": [
    {
     "name": "stdout",
     "output_type": "stream",
     "text": [
      "[False  True  True]\n"
     ]
    }
   ],
   "source": [
    "def simple_pred_vec(g, theta):\n",
    "\n",
    "    return g >= theta\n",
    "\n",
    "print(simple_pred_vec(g=np.array([100., 200., 140.]), theta=140.))\n",
    "assert (simple_pred_vec(g=np.array([100., 200., 140.]), theta=140.) == np.array([False, True, True])).all()"
   ],
   "metadata": {
    "collapsed": false,
    "pycharm": {
     "name": "#%%\n"
    }
   }
  },
  {
   "cell_type": "code",
   "execution_count": 62,
   "outputs": [
    {
     "name": "stdout",
     "output_type": "stream",
     "text": [
      "(1, 768)\n"
     ]
    }
   ],
   "source": [
    "def simple_pred(df, theta):\n",
    "\n",
    "    # your code here\n",
    "    glucose = df['Glucose'].values[np.newaxis,]\n",
    "    pred = simple_pred_vec(glucose, theta)\n",
    "\n",
    "    return pred\n",
    "\n",
    "#simple_pred(df, 120)\n",
    "print(simple_pred(df, 120).shape)\n",
    "assert np.array_equal(simple_pred(df, 120)[:,:5], np.array([[True, False,  True, False,  True]]))"
   ],
   "metadata": {
    "collapsed": false,
    "pycharm": {
     "name": "#%%\n"
    }
   }
  },
  {
   "cell_type": "code",
   "execution_count": 116,
   "outputs": [
    {
     "name": "stdout",
     "output_type": "stream",
     "text": [
      "[0.9]\n"
     ]
    }
   ],
   "source": [
    "def simple_acc(df, theta):\n",
    "\n",
    "    # your code here\n",
    "    expected = df['Outcome'].values\n",
    "    #print(expected.shape)\n",
    "    pred = simple_pred(df, theta)\n",
    "    #print(pred.shape)\n",
    "    accu = np.sum(pred == expected, axis=1) / expected.shape[0]\n",
    "    #print(accu.shape)\n",
    "    #print(accu)\n",
    "\n",
    "    return accu\n",
    "\n",
    "# Performing sanity checks on your implementation\n",
    "\n",
    "# Toy testing the shapes\n",
    "assert simple_acc(df, theta=120).shape == (1,)\n",
    "assert simple_acc(df, theta=np.array([50,100,300]).reshape(3,1)).shape == (3,)\n",
    "\n",
    "# Toy testing the values\n",
    "assert simple_acc(df, theta=120).round(3)==0.698\n",
    "assert np.array_equal(simple_acc(df, theta=np.array([[50,100,20,40]]).T).round(3), [0.352, 0.564, 0.35 , 0.35 ])\n",
    "\n",
    "print(simple_acc(df.iloc[:10, :], 117))"
   ],
   "metadata": {
    "collapsed": false,
    "pycharm": {
     "name": "#%%\n"
    }
   }
  },
  {
   "cell_type": "code",
   "execution_count": 148,
   "outputs": [
    {
     "name": "stdout",
     "output_type": "stream",
     "text": [
      "a.shape is (1, 4). b.shape is (3, 1)\n",
      "c.shape is (3, 4). d.shape is (3, 4). e.shape is (3, 4). f.shape is (3, 4).\n",
      "----------\n",
      "c is \n",
      "[[ True False False False]\n",
      " [False False  True False]\n",
      " [False False False False]]\n",
      "----------\n",
      "d is \n",
      "[[ 1  2  3  4]\n",
      " [ 3  6  9 12]\n",
      " [ 6 12 18 24]]\n",
      "----------\n",
      "e is \n",
      "[[ 2  3  4  5]\n",
      " [ 4  5  6  7]\n",
      " [ 7  8  9 10]]\n",
      "----------\n",
      "f is \n",
      "[[False  True  True  True]\n",
      " [False False False  True]\n",
      " [False False False False]]\n",
      "----------\n",
      "[[ True  True  True False]]\n",
      "[[1]\n",
      " [1]\n",
      " [0]]\n",
      "[[1 1 1 0]\n",
      " [1 1 1 0]\n",
      " [0 0 0 0]]\n",
      "6\n"
     ]
    }
   ],
   "source": [
    "a = np.array([1,2,3,4]).reshape(1, -1) # \"a\" is a row vector\n",
    "b = np.array([1,3,6]).reshape(-1, 1) # \"b\" is a column vector\n",
    "c = (a == b)\n",
    "d = (a * b)\n",
    "e = (a + b)\n",
    "f = (a > b)\n",
    "print(f'a.shape is {a.shape}. b.shape is {b.shape}')\n",
    "print(f'c.shape is {c.shape}. d.shape is {d.shape}. e.shape is {e.shape}. f.shape is {f.shape}.')\n",
    "print('----------')\n",
    "print('c is ')\n",
    "print(c)\n",
    "print('----------')\n",
    "print('d is ')\n",
    "print(d)\n",
    "print('----------')\n",
    "print('e is ')\n",
    "print(e)\n",
    "print('----------')\n",
    "print('f is ')\n",
    "print(f)\n",
    "print('----------')\n",
    "\n",
    "a = np.array([True,True,True,False]).reshape(1, -1) # \"a\" is a row vector\n",
    "b = np.array([1,1,0]).reshape(-1, 1)\n",
    "print(a)\n",
    "print(b)\n",
    "print(a*b)\n",
    "print(np.sum(a*b))"
   ],
   "metadata": {
    "collapsed": false,
    "pycharm": {
     "name": "#%%\n"
    }
   }
  },
  {
   "cell_type": "code",
   "execution_count": 126,
   "outputs": [
    {
     "name": "stdout",
     "output_type": "stream",
     "text": [
      "[117 array([0.9])]\n"
     ]
    }
   ],
   "source": [
    "def best_theta_loopy(df):\n",
    "\n",
    "    # your code here\n",
    "    best_accuracy = 0\n",
    "    best_theta = 1000\n",
    "    for t in range(75, 201):\n",
    "        accu = simple_acc(df, t)\n",
    "        if  accu > best_accuracy:\n",
    "            best_accuracy = accu\n",
    "            best_theta = t\n",
    "        elif accu == best_accuracy:\n",
    "            best_theta = t if  t < best_theta else best_theta\n",
    "\n",
    "    return np.array([best_theta, best_accuracy])\n",
    "\n",
    "print(best_theta_loopy(df.iloc[:10, :]))\n",
    "assert np.array_equal(best_theta_loopy(df.iloc[:10, :]), np.array((117, 0.9)))"
   ],
   "metadata": {
    "collapsed": false,
    "pycharm": {
     "name": "#%%\n"
    }
   }
  },
  {
   "cell_type": "code",
   "execution_count": 139,
   "outputs": [
    {
     "name": "stdout",
     "output_type": "stream",
     "text": [
      "[117.    0.9]\n"
     ]
    }
   ],
   "source": [
    "def best_theta(df):\n",
    "\n",
    "    # your code here\n",
    "    thetas = np.arange(75, 201)\n",
    "    accus = simple_acc(df, thetas[:, np.newaxis])\n",
    "    max_arg = np.argmax(accus)\n",
    "\n",
    "    return np.array((thetas[max_arg], accus[max_arg]))\n",
    "\n",
    "print(best_theta(df.iloc[:10, :]))\n",
    "assert np.array_equal(best_theta(df.iloc[:10, :]), np.array((117, 0.9)))"
   ],
   "metadata": {
    "collapsed": false,
    "pycharm": {
     "name": "#%%\n"
    }
   }
  },
  {
   "cell_type": "code",
   "execution_count": 163,
   "outputs": [
    {
     "name": "stdout",
     "output_type": "stream",
     "text": [
      "[[55 24]\n",
      " [ 8 13]]\n"
     ]
    }
   ],
   "source": [
    "def simple_confusion(df, theta):\n",
    "\n",
    "    # your code here\n",
    "    label = df['Outcome'].values\n",
    "    pred = simple_pred(df, theta)\n",
    "    a = (np.array([0,1]).reshape(2,1) == pred).astype(np.int)\n",
    "    b = (label.reshape(-1,1) == np.array([0, 1]).reshape(1,2)).astype(np.int)\n",
    "    M = a @ b\n",
    "\n",
    "    return M\n",
    "\n",
    "print(simple_confusion(df.iloc[:100, :], theta=144))"
   ],
   "metadata": {
    "collapsed": false,
    "pycharm": {
     "name": "#%%\n"
    }
   }
  },
  {
   "cell_type": "code",
   "execution_count": 162,
   "outputs": [
    {
     "name": "stdout",
     "output_type": "stream",
     "text": [
      "[[0 1 0 1]\n",
      " [1 0 1 0]]\n",
      "[[0 1]\n",
      " [1 0]\n",
      " [1 0]\n",
      " [1 0]]\n",
      "[[2 0]\n",
      " [1 1]]\n"
     ]
    }
   ],
   "source": [
    "## This is neat trick to get all tp, tn, fp, fn\n",
    "pred = np.array([True,False,True,False]).reshape(1,-1)\n",
    "label = np.array([True,False,False,False]).reshape(1,-1)# \"a\" is a row vector\n",
    "a = (np.array([0,1]).reshape(2,1) == pred).astype(np.int)\n",
    "b = (label.reshape(-1,1) == np.array([0, 1]).reshape(1,2)).astype(np.int)\n",
    "print(a)\n",
    "print(b)\n",
    "print(a @ b)"
   ],
   "metadata": {
    "collapsed": false,
    "pycharm": {
     "name": "#%%\n"
    }
   }
  },
  {
   "cell_type": "code",
   "execution_count": 164,
   "outputs": [
    {
     "data": {
      "text/plain": "<Figure size 1080x432 with 1 Axes>",
      "image/png": "[encoded data removed]"
     },
     "metadata": {
      "needs_background": "light"
     },
     "output_type": "display_data"
    }
   ],
   "source": [
    "fig, ax = plt.subplots(figsize=(10,4), dpi=108)\n",
    "sns.kdeplot(df['Glucose'][df['Outcome']==1].values, ax=ax, label='Diabetic Glucose')\n",
    "sns.kdeplot(df['Glucose'][df['Outcome']==0].values, ax=ax, label='Non-Diabetic Glucose')\n",
    "ax.set_xlabel('Blood Glucose Level (mg/liter)')\n",
    "ax.set_ylabel('Probabilstic Density')\n",
    "ax.set_title('Class-Conditional Histograms for the Glucose Predictor')\n",
    "_=ax.axvline(x=117, c='black', ls='--')"
   ],
   "metadata": {
    "collapsed": false,
    "pycharm": {
     "name": "#%%\n"
    }
   }
  }
 ],
 "metadata": {
  "kernelspec": {
   "display_name": "Python 3",
   "language": "python",
   "name": "python3"
  },
  "language_info": {
   "codemirror_mode": {
    "name": "ipython",
    "version": 2
   },
   "file_extension": ".py",
   "mimetype": "text/x-python",
   "name": "python",
   "nbconvert_exporter": "python",
   "pygments_lexer": "ipython2",
   "version": "2.7.6"
  }
 },
 "nbformat": 4,
 "nbformat_minor": 0
}