{
 "cells": [
  {
   "cell_type": "code",
   "execution_count": 1,
   "metadata": {
    "collapsed": true
   },
   "outputs": [],
   "source": [
    "%matplotlib inline\n",
    "%load_ext autoreload\n",
    "%autoreload 2\n",
    "\n",
    "import matplotlib.pyplot as plt\n",
    "\n",
    "import numpy as np\n",
    "from skimage.transform import resize\n",
    "from sklearn.naive_bayes import GaussianNB, BernoulliNB\n",
    "import pandas as pd\n",
    "from sklearn.ensemble import RandomForestClassifier\n",
    "import os"
   ]
  },
  {
   "cell_type": "code",
   "execution_count": 43,
   "outputs": [],
   "source": [
    "perform_computation = True\n",
    "\n",
    "if os.path.exists('data/mnist.npz'):\n",
    "    npzfile = np.load('data/mnist.npz')\n",
    "    train_images_raw = npzfile['train_images_raw']\n",
    "    train_labels = npzfile['train_labels']\n",
    "    eval_images_raw = npzfile['eval_images_raw']\n",
    "    eval_labels = npzfile['eval_labels']\n",
    "else:\n",
    "    import torchvision\n",
    "    download_ = not os.path.exists('data/mnist.npz')\n",
    "    data_train = torchvision.datasets.MNIST('mnist', train=True, transform=None, target_transform=None, download=download_)\n",
    "    data_eval = torchvision.datasets.MNIST('mnist', train=False, transform=None, target_transform=None, download=download_)\n",
    "\n",
    "    train_images_raw = data_train.data.numpy()\n",
    "    train_labels = data_train.targets.numpy()\n",
    "    eval_images_raw = data_eval.data.numpy()\n",
    "    eval_labels = data_eval.targets.numpy()\n",
    "\n",
    "    np.savez('data/mnist.npz', train_images_raw=train_images_raw, train_labels=train_labels,\n",
    "             eval_images_raw=eval_images_raw, eval_labels=eval_labels)"
   ],
   "metadata": {
    "collapsed": false,
    "pycharm": {
     "name": "#%%\n"
    }
   }
  },
  {
   "cell_type": "code",
   "execution_count": 3,
   "outputs": [
    {
     "name": "stdout",
     "output_type": "stream",
     "text": [
      "(60000, 28, 28)\n",
      "uint8\n",
      "(60000,) int64\n",
      "[5 0 4 1 9 2 1 3 1 4]\n",
      "0 255\n",
      "[0, 0, 0, 0, 0, 0, 0, 0, 0, 0, 0, 0, 0, 0, 0, 0, 0, 0, 0, 0, 0, 0, 0, 0, 0, 0, 0, 0]\n",
      "[0, 0, 0, 0, 0, 0, 0, 0, 0, 0, 0, 0, 0, 0, 0, 0, 0, 0, 0, 0, 0, 0, 0, 0, 0, 0, 0, 0]\n",
      "[0, 0, 0, 0, 0, 0, 0, 0, 0, 0, 0, 0, 0, 0, 0, 0, 0, 0, 0, 0, 0, 0, 0, 0, 0, 0, 0, 0]\n",
      "[0, 0, 0, 0, 0, 0, 0, 0, 0, 0, 0, 0, 0, 0, 0, 0, 0, 0, 0, 0, 0, 0, 0, 0, 0, 0, 0, 0]\n",
      "[0, 0, 0, 0, 0, 0, 0, 0, 0, 0, 0, 0, 0, 0, 0, 51, 159, 253, 159, 50, 0, 0, 0, 0, 0, 0, 0, 0]\n",
      "[0, 0, 0, 0, 0, 0, 0, 0, 0, 0, 0, 0, 0, 0, 48, 238, 252, 252, 252, 237, 0, 0, 0, 0, 0, 0, 0, 0]\n",
      "[0, 0, 0, 0, 0, 0, 0, 0, 0, 0, 0, 0, 0, 54, 227, 253, 252, 239, 233, 252, 57, 6, 0, 0, 0, 0, 0, 0]\n",
      "[0, 0, 0, 0, 0, 0, 0, 0, 0, 0, 0, 10, 60, 224, 252, 253, 252, 202, 84, 252, 253, 122, 0, 0, 0, 0, 0, 0]\n",
      "[0, 0, 0, 0, 0, 0, 0, 0, 0, 0, 0, 163, 252, 252, 252, 253, 252, 252, 96, 189, 253, 167, 0, 0, 0, 0, 0, 0]\n",
      "[0, 0, 0, 0, 0, 0, 0, 0, 0, 0, 51, 238, 253, 253, 190, 114, 253, 228, 47, 79, 255, 168, 0, 0, 0, 0, 0, 0]\n",
      "[0, 0, 0, 0, 0, 0, 0, 0, 0, 48, 238, 252, 252, 179, 12, 75, 121, 21, 0, 0, 253, 243, 50, 0, 0, 0, 0, 0]\n",
      "[0, 0, 0, 0, 0, 0, 0, 0, 38, 165, 253, 233, 208, 84, 0, 0, 0, 0, 0, 0, 253, 252, 165, 0, 0, 0, 0, 0]\n",
      "[0, 0, 0, 0, 0, 0, 0, 7, 178, 252, 240, 71, 19, 28, 0, 0, 0, 0, 0, 0, 253, 252, 195, 0, 0, 0, 0, 0]\n",
      "[0, 0, 0, 0, 0, 0, 0, 57, 252, 252, 63, 0, 0, 0, 0, 0, 0, 0, 0, 0, 253, 252, 195, 0, 0, 0, 0, 0]\n",
      "[0, 0, 0, 0, 0, 0, 0, 198, 253, 190, 0, 0, 0, 0, 0, 0, 0, 0, 0, 0, 255, 253, 196, 0, 0, 0, 0, 0]\n",
      "[0, 0, 0, 0, 0, 0, 76, 246, 252, 112, 0, 0, 0, 0, 0, 0, 0, 0, 0, 0, 253, 252, 148, 0, 0, 0, 0, 0]\n",
      "[0, 0, 0, 0, 0, 0, 85, 252, 230, 25, 0, 0, 0, 0, 0, 0, 0, 0, 7, 135, 253, 186, 12, 0, 0, 0, 0, 0]\n",
      "[0, 0, 0, 0, 0, 0, 85, 252, 223, 0, 0, 0, 0, 0, 0, 0, 0, 7, 131, 252, 225, 71, 0, 0, 0, 0, 0, 0]\n",
      "[0, 0, 0, 0, 0, 0, 85, 252, 145, 0, 0, 0, 0, 0, 0, 0, 48, 165, 252, 173, 0, 0, 0, 0, 0, 0, 0, 0]\n",
      "[0, 0, 0, 0, 0, 0, 86, 253, 225, 0, 0, 0, 0, 0, 0, 114, 238, 253, 162, 0, 0, 0, 0, 0, 0, 0, 0, 0]\n",
      "[0, 0, 0, 0, 0, 0, 85, 252, 249, 146, 48, 29, 85, 178, 225, 253, 223, 167, 56, 0, 0, 0, 0, 0, 0, 0, 0, 0]\n",
      "[0, 0, 0, 0, 0, 0, 85, 252, 252, 252, 229, 215, 252, 252, 252, 196, 130, 0, 0, 0, 0, 0, 0, 0, 0, 0, 0, 0]\n",
      "[0, 0, 0, 0, 0, 0, 28, 199, 252, 252, 253, 252, 252, 233, 145, 0, 0, 0, 0, 0, 0, 0, 0, 0, 0, 0, 0, 0]\n",
      "[0, 0, 0, 0, 0, 0, 0, 25, 128, 252, 253, 252, 141, 37, 0, 0, 0, 0, 0, 0, 0, 0, 0, 0, 0, 0, 0, 0]\n",
      "[0, 0, 0, 0, 0, 0, 0, 0, 0, 0, 0, 0, 0, 0, 0, 0, 0, 0, 0, 0, 0, 0, 0, 0, 0, 0, 0, 0]\n",
      "[0, 0, 0, 0, 0, 0, 0, 0, 0, 0, 0, 0, 0, 0, 0, 0, 0, 0, 0, 0, 0, 0, 0, 0, 0, 0, 0, 0]\n",
      "[0, 0, 0, 0, 0, 0, 0, 0, 0, 0, 0, 0, 0, 0, 0, 0, 0, 0, 0, 0, 0, 0, 0, 0, 0, 0, 0, 0]\n",
      "[0, 0, 0, 0, 0, 0, 0, 0, 0, 0, 0, 0, 0, 0, 0, 0, 0, 0, 0, 0, 0, 0, 0, 0, 0, 0, 0, 0]\n"
     ]
    },
    {
     "data": {
      "text/plain": "<matplotlib.image.AxesImage at 0x1f2ff12bef0>"
     },
     "execution_count": 3,
     "metadata": {},
     "output_type": "execute_result"
    },
    {
     "data": {
      "text/plain": "<Figure size 432x288 with 1 Axes>",
      "image/png": "[encoded data removed]"
     },
     "metadata": {
      "needs_background": "light"
     },
     "output_type": "display_data"
    }
   ],
   "source": [
    "print(train_images_raw.shape)\n",
    "print(train_images_raw.dtype)\n",
    "print(train_labels.shape, train_labels.dtype)\n",
    "print(train_labels[:10])\n",
    "print(train_images_raw[0].min(), train_images_raw[0].max())\n",
    "\n",
    "def show(image_raw):\n",
    "    for row_im in image_raw:\n",
    "        print(row_im.tolist())\n",
    "show(train_images_raw[1])\n",
    "plt.imshow(train_images_raw[6], cmap='Greys')"
   ],
   "metadata": {
    "collapsed": false,
    "pycharm": {
     "name": "#%%\n"
    }
   }
  },
  {
   "cell_type": "code",
   "execution_count": 4,
   "outputs": [
    {
     "name": "stdout",
     "output_type": "stream",
     "text": [
      "[False, False, False, False, False, False, False, False, False, False, False, False, False, False, False, False, False, False, False, False, False, False, False, False, False, False, False, False]\n",
      "[False, False, False, False, False, False, False, False, False, False, False, False, False, False, False, False, False, False, False, False, False, False, False, False, False, False, False, False]\n",
      "[False, False, False, False, False, False, False, False, False, False, False, False, False, False, False, False, False, False, False, False, False, False, False, False, False, False, False, False]\n",
      "[False, False, False, False, False, False, False, False, False, False, False, False, False, False, False, False, False, False, False, False, False, False, False, False, False, False, False, False]\n",
      "[False, False, False, False, False, False, False, False, False, False, False, False, False, False, False, True, True, True, True, True, False, False, False, False, False, False, False, False]\n",
      "[False, False, False, False, False, False, False, False, False, False, False, False, False, False, True, True, True, True, True, True, False, False, False, False, False, False, False, False]\n",
      "[False, False, False, False, False, False, False, False, False, False, False, False, False, True, True, True, True, True, True, True, True, False, False, False, False, False, False, False]\n",
      "[False, False, False, False, False, False, False, False, False, False, False, False, True, True, True, True, True, True, True, True, True, True, False, False, False, False, False, False]\n",
      "[False, False, False, False, False, False, False, False, False, False, False, True, True, True, True, True, True, True, True, True, True, True, False, False, False, False, False, False]\n",
      "[False, False, False, False, False, False, False, False, False, False, True, True, True, True, True, True, True, True, True, True, True, True, False, False, False, False, False, False]\n",
      "[False, False, False, False, False, False, False, False, False, True, True, True, True, True, False, True, True, True, False, False, True, True, True, False, False, False, False, False]\n",
      "[False, False, False, False, False, False, False, False, True, True, True, True, True, True, False, False, False, False, False, False, True, True, True, False, False, False, False, False]\n",
      "[False, False, False, False, False, False, False, False, True, True, True, True, False, True, False, False, False, False, False, False, True, True, True, False, False, False, False, False]\n",
      "[False, False, False, False, False, False, False, True, True, True, True, False, False, False, False, False, False, False, False, False, True, True, True, False, False, False, False, False]\n",
      "[False, False, False, False, False, False, False, True, True, True, False, False, False, False, False, False, False, False, False, False, True, True, True, False, False, False, False, False]\n",
      "[False, False, False, False, False, False, True, True, True, True, False, False, False, False, False, False, False, False, False, False, True, True, True, False, False, False, False, False]\n",
      "[False, False, False, False, False, False, True, True, True, True, False, False, False, False, False, False, False, False, False, True, True, True, False, False, False, False, False, False]\n",
      "[False, False, False, False, False, False, True, True, True, False, False, False, False, False, False, False, False, False, True, True, True, True, False, False, False, False, False, False]\n",
      "[False, False, False, False, False, False, True, True, True, False, False, False, False, False, False, False, True, True, True, True, False, False, False, False, False, False, False, False]\n",
      "[False, False, False, False, False, False, True, True, True, False, False, False, False, False, False, True, True, True, True, False, False, False, False, False, False, False, False, False]\n",
      "[False, False, False, False, False, False, True, True, True, True, True, True, True, True, True, True, True, True, True, False, False, False, False, False, False, False, False, False]\n",
      "[False, False, False, False, False, False, True, True, True, True, True, True, True, True, True, True, True, False, False, False, False, False, False, False, False, False, False, False]\n",
      "[False, False, False, False, False, False, True, True, True, True, True, True, True, True, True, False, False, False, False, False, False, False, False, False, False, False, False, False]\n",
      "[False, False, False, False, False, False, False, True, True, True, True, True, True, True, False, False, False, False, False, False, False, False, False, False, False, False, False, False]\n",
      "[False, False, False, False, False, False, False, False, False, False, False, False, False, False, False, False, False, False, False, False, False, False, False, False, False, False, False, False]\n",
      "[False, False, False, False, False, False, False, False, False, False, False, False, False, False, False, False, False, False, False, False, False, False, False, False, False, False, False, False]\n",
      "[False, False, False, False, False, False, False, False, False, False, False, False, False, False, False, False, False, False, False, False, False, False, False, False, False, False, False, False]\n",
      "[False, False, False, False, False, False, False, False, False, False, False, False, False, False, False, False, False, False, False, False, False, False, False, False, False, False, False, False]\n"
     ]
    },
    {
     "data": {
      "text/plain": "<matplotlib.image.AxesImage at 0x1f2ff1e7b70>"
     },
     "execution_count": 4,
     "metadata": {},
     "output_type": "execute_result"
    },
    {
     "data": {
      "text/plain": "<Figure size 432x288 with 1 Axes>",
      "image/png": "[encoded data removed]"
     },
     "metadata": {
      "needs_background": "light"
     },
     "output_type": "display_data"
    }
   ],
   "source": [
    "def get_thresholded(images_raw, threshold):\n",
    "    \"\"\"\n",
    "    Perform image thresholding.\n",
    "\n",
    "        Parameters:\n",
    "                images_raw (np,array): Do not assume anything about its shape, dtype or range of values.\n",
    "                Your function should be careless about these attributes.\n",
    "                threshold (int): A scalar value.\n",
    "\n",
    "        Returns:\n",
    "                threshed_image (np.array): A numpy array with the same shape as images_raw, and the bool dtype.\n",
    "                This array should indicate whether each elemelent of images_raw is greater than or equal to\n",
    "                threshold.\n",
    "    \"\"\"\n",
    "\n",
    "    # your code here\n",
    "    threshed_image = images_raw >= threshold\n",
    "\n",
    "    return threshed_image\n",
    "\n",
    "ti = get_thresholded(train_images_raw[1], 20)\n",
    "show(ti)\n",
    "plt.imshow(ti, cmap='Greys')\n",
    "allti = get_thresholded(train_images_raw, 20)\n",
    "plt.imshow(allti[1], cmap='Greys')"
   ],
   "metadata": {
    "collapsed": false,
    "pycharm": {
     "name": "#%%\n"
    }
   }
  },
  {
   "cell_type": "code",
   "execution_count": 5,
   "outputs": [
    {
     "name": "stdout",
     "output_type": "stream",
     "text": [
      "[False False False False  True  True  True  True  True  True  True  True\n",
      "  True  True  True  True  True  True  True  True  True  True  True  True\n",
      " False False False False]\n"
     ]
    }
   ],
   "source": [
    "def get_is_row_inky(images):\n",
    "    \"\"\"\n",
    "    Finds the rows with ink pixels.\n",
    "\n",
    "        Parameters:\n",
    "                images (np,array): A numpy array with the shape (N, height, width)\n",
    "\n",
    "        Returns:\n",
    "                is_row_inky (np.array): A numpy array with the shape (N, height), and the bool dtype.\n",
    "    \"\"\"\n",
    "\n",
    "    # your code here\n",
    "    is_row_inky = np.any(images, axis=2)\n",
    "\n",
    "    return is_row_inky\n",
    "\n",
    "iri = get_is_row_inky(train_images_raw)\n",
    "print(iri[1])"
   ],
   "metadata": {
    "collapsed": false,
    "pycharm": {
     "name": "#%%\n"
    }
   }
  },
  {
   "cell_type": "code",
   "execution_count": 6,
   "outputs": [
    {
     "name": "stdout",
     "output_type": "stream",
     "text": [
      "[False False False False False False  True  True  True  True  True  True\n",
      "  True  True  True  True  True  True  True  True  True  True  True False\n",
      " False False False False]\n"
     ]
    }
   ],
   "source": [
    "def get_is_col_inky(images):\n",
    "    \"\"\"\n",
    "    Finds the columns with ink pixels.\n",
    "\n",
    "        Parameters:\n",
    "                images (np.array): A numpy array with the shape (N,height,width).\n",
    "\n",
    "        Returns:\n",
    "                is_col_inky (np.array): A numpy array with the shape (N, width), and the bool dtype.\n",
    "    \"\"\"\n",
    "\n",
    "    # your code here\n",
    "    is_col_inky = np.any(images, axis=1)\n",
    "\n",
    "    return is_col_inky\n",
    "\n",
    "a = get_is_col_inky(train_images_raw)\n",
    "print(a[1])"
   ],
   "metadata": {
    "collapsed": false,
    "pycharm": {
     "name": "#%%\n"
    }
   }
  },
  {
   "cell_type": "code",
   "execution_count": 7,
   "outputs": [
    {
     "name": "stdout",
     "output_type": "stream",
     "text": [
      "[5 4 5 ... 5 2 6]\n"
     ]
    }
   ],
   "source": [
    "def get_first_ink_row_index(is_row_inky):\n",
    "    \"\"\"\n",
    "     Finds the first row containing ink pixels\n",
    "\n",
    "        Parameters:\n",
    "                is_row_inky (np.array): A numpy array with the shape (N, height), and the bool dtype.\n",
    "                This is the output of the get_is_row_inky function that you implemented before.\n",
    "\n",
    "        Returns:\n",
    "                first_ink_rows (np.array): A numpy array with the shape (N,), and the int64 dtype.\n",
    "    \"\"\"\n",
    "\n",
    "    # your code here\n",
    "    #m = np.any(is_row_inky, axis=2)\n",
    "    first_ink_rows = is_row_inky.argmax(axis=1)\n",
    "\n",
    "    return first_ink_rows\n",
    "\n",
    "r = get_first_ink_row_index(iri)\n",
    "print(r)"
   ],
   "metadata": {
    "collapsed": false,
    "pycharm": {
     "name": "#%%\n"
    }
   }
  },
  {
   "cell_type": "code",
   "execution_count": 8,
   "outputs": [
    {
     "name": "stdout",
     "output_type": "stream",
     "text": [
      "[1 0 2]\n",
      "[[1 0 1 0]\n",
      " [1 0 0 1]\n",
      " [1 1 0 0]]\n",
      "(3, 4)\n",
      "[3 3 3]\n"
     ]
    }
   ],
   "source": [
    "z = np.array([[0, 1, 0, 1], [1, 0, 0, 1], [0, 0, 1, 1]])\n",
    "print(z.argmax(axis=1))\n",
    "zr = z[:,::-1]\n",
    "print(zr)\n",
    "print(zr.shape)\n",
    "print(zr.shape[1] - zr.argmax(axis=1) -1)"
   ],
   "metadata": {
    "collapsed": false,
    "pycharm": {
     "name": "#%%\n"
    }
   }
  },
  {
   "cell_type": "code",
   "execution_count": 9,
   "outputs": [
    {
     "name": "stdout",
     "output_type": "stream",
     "text": [
      "[24 23 24 ... 24 21 24]\n"
     ]
    }
   ],
   "source": [
    "def get_last_ink_row_index(is_row_inky):\n",
    "    \"\"\"\n",
    "    Finds the last row containing ink pixels.\n",
    "\n",
    "        Parameters:\n",
    "                is_row_inky (np.array): A numpy array with the shape (N, height), and the bool dtype.\n",
    "                This is the output of the get_is_row_inky function that you implemented before.\n",
    "\n",
    "        Returns:\n",
    "                last_ink_rows (np.array): A numpy array with the shape (N,), and the int64 dtype.\n",
    "    \"\"\"\n",
    "\n",
    "    # your code here\n",
    "    reversed_rows = is_row_inky[:,::-1]\n",
    "    d = reversed_rows.shape[1]\n",
    "    last_ink_rows = d - reversed_rows.argmax(axis=1) -1\n",
    "\n",
    "    return last_ink_rows\n",
    "\n",
    "r = get_last_ink_row_index(iri)\n",
    "print(r)"
   ],
   "metadata": {
    "collapsed": false,
    "pycharm": {
     "name": "#%%\n"
    }
   }
  },
  {
   "cell_type": "code",
   "execution_count": 10,
   "outputs": [
    {
     "name": "stdout",
     "output_type": "stream",
     "text": [
      "Original array : \n",
      " [[ 0  1  2  3]\n",
      " [ 4  5  6  7]\n",
      " [ 8  9 10 11]]\n",
      "\n",
      "Rolling with 1 shift : \n",
      " [[11  0  1  2]\n",
      " [ 3  4  5  6]\n",
      " [ 7  8  9 10]]\n",
      "\n",
      "Rolling columns with 1 shift : \n",
      " [[ 3  0  1  2]\n",
      " [ 7  4  5  6]\n",
      " [11  8  9 10]]\n",
      "\n",
      "Rolling rows with 1 shift : \n",
      " [[ 8  9 10 11]\n",
      " [ 0  1  2  3]\n",
      " [ 4  5  6  7]]\n",
      "[[[ 0  1]\n",
      "  [ 2  3]\n",
      "  [ 4  5]]\n",
      "\n",
      " [[ 6  7]\n",
      "  [ 8  9]\n",
      "  [10 11]]\n",
      "\n",
      " [[12 13]\n",
      "  [14 15]\n",
      "  [16 17]]]\n",
      "[[3 2]\n",
      " [5 4]\n",
      " [1 0]]\n",
      "[[ 9  8]\n",
      " [11 10]\n",
      " [ 7  6]]\n",
      "[[13 12]\n",
      " [15 14]\n",
      " [17 16]]\n"
     ]
    }
   ],
   "source": [
    "array = np.arange(12).reshape(3, 4)\n",
    "print(\"Original array : \\n\", array)\n",
    "\n",
    "# Rolling array; Shifting one place\n",
    "print(\"\\nRolling with 1 shift : \\n\", np.roll(array, 1))\n",
    "print(\"\\nRolling columns with 1 shift : \\n\", np.roll(array, 1, axis=1))\n",
    "print(\"\\nRolling rows with 1 shift : \\n\", np.roll(array, 1, axis=0))\n",
    "\n",
    "array2 = np.arange(18).reshape(3, 3, 2)\n",
    "print(array2)\n",
    "#print(\"\\nRolling rows with 1,0,2 shift : \\n\", np.roll(array2, [[-1], [-1]], axis=1))\n",
    "def my_func(a):\n",
    "    print(a)\n",
    "    return 1\n",
    "    #return np.roll(a, 1, axis=0)\n",
    "\n",
    "#print(np.apply_along_axis(my_func, 0, array2))\n",
    "#print(np.apply_along_axis(my_func, 1, array2))\n",
    "def sf(im, sh):\n",
    "    imr = np.roll(im, sh[0], axis=0)\n",
    "    return np.roll(imr, sh[1], axis=1)\n",
    "shift = [[-1,1],[2,1], [0,1]]\n",
    "for (im, sh) in zip(array2, shift):\n",
    "    print(sf(im, sh))"
   ],
   "metadata": {
    "collapsed": false,
    "pycharm": {
     "name": "#%%\n"
    }
   }
  },
  {
   "cell_type": "code",
   "execution_count": 11,
   "outputs": [],
   "source": [
    "def get_first_ink_col_index(is_col_inky):\n",
    "    return get_first_ink_row_index(is_col_inky)\n",
    "\n",
    "def get_last_ink_col_index(is_col_inky):\n",
    "    return get_last_ink_row_index(is_col_inky)"
   ],
   "metadata": {
    "collapsed": false,
    "pycharm": {
     "name": "#%%\n"
    }
   }
  },
  {
   "cell_type": "code",
   "execution_count": 12,
   "outputs": [
    {
     "name": "stdout",
     "output_type": "stream",
     "text": [
      "<class 'numpy.uint8'>\n",
      "[[15 14 15 ... 15 12 15]\n",
      " [14 14 13 ... 15 15 16]]\n",
      "[[10]\n",
      " [10]]\n",
      "(2, 60000)\n",
      "<class 'numpy.uint8'>\n"
     ]
    },
    {
     "data": {
      "text/plain": "<Figure size 432x288 with 1 Axes>",
      "image/png": "[encoded data removed]"
     },
     "metadata": {
      "needs_background": "light"
     },
     "output_type": "display_data"
    }
   ],
   "source": [
    "\n",
    "def get_images_bb(images, bb_size=20):\n",
    "    \"\"\"\n",
    "    Applies the \"Bounding Box\" pre-processing step to images.\n",
    "\n",
    "        Parameters:\n",
    "                images (np.array): A numpy array with the shape (N,height,width)\n",
    "\n",
    "        Returns:\n",
    "                images_bb (np.array): A numpy array with the shape (N,bb_size,bb_size),\n",
    "                and the same dtype as images.\n",
    "    \"\"\"\n",
    "\n",
    "    if len(images.shape)==2:\n",
    "        # In case a 2d image was given as input, we'll add a dummy dimension to be consistent\n",
    "        images_ = images.reshape(1,*images.shape)\n",
    "    else:\n",
    "        # Otherwise, we'll just work with what's given\n",
    "        images_ = images\n",
    "\n",
    "    print(type(images_[0,0, 0]))\n",
    "    is_row_inky = get_is_row_inky(images_)\n",
    "    is_col_inky = get_is_col_inky(images_)\n",
    "\n",
    "    first_ink_rows = get_first_ink_row_index(is_row_inky)\n",
    "    last_ink_rows = get_last_ink_row_index(is_row_inky)\n",
    "    first_ink_cols = get_first_ink_col_index(is_col_inky)\n",
    "    last_ink_cols = get_last_ink_col_index(is_col_inky)\n",
    "\n",
    "    # your code here\n",
    "    N = images_.shape[0]\n",
    "    images_bb = np.zeros((N, bb_size, bb_size), dtype=np.uint8)\n",
    "    rm = (first_ink_rows+last_ink_rows+1) // 2\n",
    "    cm = (first_ink_cols+last_ink_cols+1) // 2\n",
    "    rc_m = np.vstack([rm, cm])\n",
    "    print(rc_m)\n",
    "    rc_out = np.floor(np.array([[bb_size // 2], [bb_size // 2]])).astype(np.int)\n",
    "    rc_rolls = (rc_out - rc_m)\n",
    "    #if len(images.shape)==2:\n",
    "    #    rc_rolls = rc_rolls.reshape(1, -1)\n",
    "    print(rc_out)\n",
    "    print(rc_rolls.shape)\n",
    "\n",
    "    #for (image, roll) in zip(images_, rc_rolls):\n",
    "    for i in range(N):\n",
    "        image = images_[i]\n",
    "        roll = rc_rolls[:,i]\n",
    "        imr = np.roll(image, roll[0], axis=0)\n",
    "        imr = np.roll(imr, roll[1], axis=1)\n",
    "        images_bb[i] = imr[:bb_size,:bb_size]\n",
    "        #plt.imshow(images_bb[i], cmap='Greys')\n",
    "\n",
    "    if len(images.shape)==2:\n",
    "        # In case a 2d image was given as input, we'll get rid of the dummy dimension\n",
    "        return images_bb[0]\n",
    "    else:\n",
    "        # Otherwise, we'll just work with what's given\n",
    "        return images_bb\n",
    "    \n",
    "bb = get_images_bb(train_images_raw)\n",
    "print(type(bb[0,0, 0]))\n",
    "if len(bb.shape)==2:\n",
    "    plt.imshow(bb, cmap='Greys')\n",
    "else:\n",
    "    plt.imshow(bb[1000], cmap='Greys')\n",
    "#show(train_images_raw[1])\n",
    "#print(bb)"
   ],
   "metadata": {
    "collapsed": false,
    "pycharm": {
     "name": "#%%\n"
    }
   }
  },
  {
   "cell_type": "code",
   "execution_count": 13,
   "outputs": [
    {
     "name": "stdout",
     "output_type": "stream",
     "text": [
      "14\n"
     ]
    },
    {
     "data": {
      "text/plain": "<matplotlib.image.AxesImage at 0x1f2ff622fd0>"
     },
     "execution_count": 13,
     "metadata": {},
     "output_type": "execute_result"
    },
    {
     "data": {
      "text/plain": "<Figure size 432x288 with 1 Axes>",
      "image/png": "[encoded data removed]"
     },
     "metadata": {
      "needs_background": "light"
     },
     "output_type": "display_data"
    }
   ],
   "source": [
    "im = train_images_raw[1000]\n",
    "plt.imshow(im, cmap='Greys')\n",
    "print(im.shape[0] // 2)\n",
    "image_resized = resize(im, (20, 20), preserve_range=True)\n",
    "plt.imshow(image_resized, cmap='Greys')"
   ],
   "metadata": {
    "collapsed": false,
    "pycharm": {
     "name": "#%%\n"
    }
   }
  },
  {
   "cell_type": "code",
   "execution_count": 14,
   "outputs": [
    {
     "data": {
      "text/plain": "<Figure size 432x288 with 1 Axes>",
      "image/png": "[encoded data removed]"
     },
     "metadata": {
      "needs_background": "light"
     },
     "output_type": "display_data"
    }
   ],
   "source": [
    "#Stretched bounding box: Construct a 20 x 20 bounding box so that the horizontal\n",
    "# (resp. vertical) range of ink pixels runs the full horizontal (resp. vertical) range of the box.\n",
    "# Obtaining this representation will involve rescaling image pixels:\n",
    "# you find the horizontal and vertical ink range,\n",
    "# cut that out of the original image,\n",
    "# then resize the result to 20 x 20. Once the image has been re-centered, you can compute features.\n",
    "\n",
    "def get_images_sbb(images, bb_size=20):\n",
    "    \"\"\"\n",
    "    Applies the \"Stretched Bounding Box\" pre-processing step to images.\n",
    "\n",
    "        Parameters:\n",
    "                images (np.array): A numpy array with the shape (N,height,width)\n",
    "\n",
    "        Returns:\n",
    "                images_sbb (np.array): A numpy array with the shape (N,bb_size,bb_size),\n",
    "                and the same dtype and the range of values as images.\n",
    "    \"\"\"\n",
    "\n",
    "    if len(images.shape)==2:\n",
    "        # In case a 2d image was given as input, we'll add a dummy dimension to be consistent\n",
    "        images_ = images.reshape(1,*images.shape)\n",
    "    else:\n",
    "        # Otherwise, we'll just work with what's given\n",
    "        images_ = images\n",
    "\n",
    "    is_row_inky = get_is_row_inky(images_)\n",
    "    is_col_inky = get_is_col_inky(images_)\n",
    "\n",
    "    first_ink_rows = get_first_ink_row_index(is_row_inky)\n",
    "    last_ink_rows = get_last_ink_row_index(is_row_inky)\n",
    "    first_ink_cols = get_first_ink_col_index(is_col_inky)\n",
    "    last_ink_cols = get_last_ink_col_index(is_col_inky)\n",
    "\n",
    "    # your code here\n",
    "    N, h, w = images_.shape\n",
    "    images_sbb = np.zeros((N, bb_size, bb_size), dtype=np.uint8)\n",
    "\n",
    "    for i in range(N):\n",
    "        image = images_[i]\n",
    "        fir, lir = first_ink_rows[i], last_ink_rows[i]+1\n",
    "        fic, lic = first_ink_cols[i], last_ink_cols[i]+1\n",
    "        im_cut = image[fir:lir, fic:lic]\n",
    "        #print(im_cut.shape)\n",
    "        images_sbb[i] = resize(im_cut, (bb_size, bb_size), preserve_range=True)\n",
    "        #images_sbb[i] = im_cut\n",
    "        #plt.imshow(images_sbb[i], cmap='Greys')\n",
    "\n",
    "\n",
    "    if len(images.shape)==2:\n",
    "        # In case a 2d image was given as input, we'll get rid of the dummy dimension\n",
    "        return images_sbb[0]\n",
    "    else:\n",
    "        # Otherwise, we'll just work with what's given\n",
    "        return images_sbb\n",
    "\n",
    "\n",
    "sbb = get_images_sbb(train_images_raw)     # 615 19\n",
    "if len(sbb.shape)==2:\n",
    "    plt.imshow(sbb, cmap='Greys')\n",
    "else:\n",
    "    plt.imshow(sbb[615], cmap='Greys')"
   ],
   "metadata": {
    "collapsed": false,
    "pycharm": {
     "name": "#%%\n"
    }
   }
  },
  {
   "cell_type": "code",
   "execution_count": 15,
   "outputs": [
    {
     "name": "stdout",
     "output_type": "stream",
     "text": [
      "[[[ 0  1  2  3]\n",
      "  [ 4  5  6  7]\n",
      "  [ 8  9 10 11]\n",
      "  [12 13 14 15]]\n",
      "\n",
      " [[16 17 18 19]\n",
      "  [20 21 22 23]\n",
      "  [24 25 26 27]\n",
      "  [28 29 30 31]]\n",
      "\n",
      " [[-1 33 34 35]\n",
      "  [36 37 38 39]\n",
      "  [40 41 42 43]\n",
      "  [44 45 46 47]]]\n",
      "[[0 2]\n",
      " [1 3]\n",
      " [0 3]]\n",
      "0\n"
     ]
    }
   ],
   "source": [
    "a1 = np.arange(48).reshape(3, 4, 4)\n",
    "cuts = np.array([[0, 2],[1, 3],[0, 3]], dtype=np.uint8)\n",
    "a1[2, 0, 0] = -1\n",
    "print(a1)\n",
    "print(cuts)\n",
    "print(cuts[0, 0])\n",
    "# TODO how to cut the 3d matrix based on indexes stored in another array\n",
    "#print(a1[0, cuts[0]: cuts[0]])\n",
    "N, h, w = a1.shape"
   ],
   "metadata": {
    "collapsed": false,
    "pycharm": {
     "name": "#%%\n"
    }
   }
  },
  {
   "cell_type": "code",
   "execution_count": 15,
   "outputs": [],
   "source": [],
   "metadata": {
    "collapsed": false,
    "pycharm": {
     "name": "#%%\n"
    }
   }
  },
  {
   "cell_type": "code",
   "execution_count": 16,
   "outputs": [
    {
     "name": "stdout",
     "output_type": "stream",
     "text": [
      "[    4    15    19 ... 59953 59973 59988]\n"
     ]
    },
    {
     "data": {
      "text/plain": "<matplotlib.image.AxesImage at 0x1f2ff6f5b70>"
     },
     "execution_count": 16,
     "metadata": {},
     "output_type": "execute_result"
    },
    {
     "data": {
      "text/plain": "<Figure size 432x288 with 1 Axes>",
      "image/png": "[encoded data removed]"
     },
     "metadata": {
      "needs_background": "light"
     },
     "output_type": "display_data"
    }
   ],
   "source": [
    "### Looking for images that extend to the last pixel in the columns\n",
    "print(np.unique(np.argwhere(train_images_raw[:, 26, :] >= 20)[:,0]))\n",
    "plt.imshow(train_images_raw[19], cmap='Greys')"
   ],
   "metadata": {
    "collapsed": false,
    "pycharm": {
     "name": "#%%\n"
    }
   }
  },
  {
   "cell_type": "code",
   "execution_count": 36,
   "outputs": [
    {
     "name": "stdout",
     "output_type": "stream",
     "text": [
      "<class 'numpy.bool_'>\n",
      "[[15 14 15 ... 15 12 15]\n",
      " [14 14 13 ... 15 15 16]]\n",
      "[[10]\n",
      " [10]]\n",
      "(2, 60000)\n",
      "<class 'numpy.bool_'>\n",
      "[[17 13 14 ... 16 16 12]\n",
      " [14 17 15 ... 15 17 15]]\n",
      "[[10]\n",
      " [10]]\n",
      "(2, 10000)\n",
      "This is gonna take a while to finish...\n",
      "Done\n"
     ]
    }
   ],
   "source": [
    "train_images_threshed = get_thresholded(train_images_raw, threshold=20)\n",
    "eval_images_threshed = get_thresholded(eval_images_raw, threshold=20)\n",
    "\n",
    "train_images_bb = get_images_bb(train_images_threshed)\n",
    "eval_images_bb = get_images_bb(eval_images_threshed)\n",
    "\n",
    "if perform_computation:\n",
    "    print('This is gonna take a while to finish...')\n",
    "    #%time\n",
    "    train_images_sbb = get_images_sbb(train_images_threshed)\n",
    "    #%time\n",
    "    eval_images_sbb = get_images_sbb(eval_images_threshed)\n",
    "    print(\"Done\")"
   ],
   "metadata": {
    "collapsed": false,
    "pycharm": {
     "name": "#%%\n"
    }
   }
  },
  {
   "cell_type": "code",
   "execution_count": 50,
   "outputs": [
    {
     "data": {
      "text/plain": "                 Accuracy  Gaussian  Bernoulli\n0        Untouched images    0.5491      0.843\n1  Stretched bounding box    0.8030      0.809",
      "text/html": "<div>\n<style scoped>\n    .dataframe tbody tr th:only-of-type {\n        vertical-align: middle;\n    }\n\n    .dataframe tbody tr th {\n        vertical-align: top;\n    }\n\n    .dataframe thead th {\n        text-align: right;\n    }\n</style>\n<table border=\"1\" class=\"dataframe\">\n  <thead>\n    <tr style=\"text-align: right;\">\n      <th></th>\n      <th>Accuracy</th>\n      <th>Gaussian</th>\n      <th>Bernoulli</th>\n    </tr>\n  </thead>\n  <tbody>\n    <tr>\n      <th>0</th>\n      <td>Untouched images</td>\n      <td>0.5491</td>\n      <td>0.843</td>\n    </tr>\n    <tr>\n      <th>1</th>\n      <td>Stretched bounding box</td>\n      <td>0.8030</td>\n      <td>0.809</td>\n    </tr>\n  </tbody>\n</table>\n</div>"
     },
     "execution_count": 50,
     "metadata": {},
     "output_type": "execute_result"
    }
   ],
   "source": [
    "def train_nb_eval_acc(train_images, train_labels, eval_images, eval_labels, density_model='Gaussian'):\n",
    "    \"\"\"\n",
    "    Trains Naive Bayes models, apply the model, and return an accuracy.\n",
    "\n",
    "        Parameters:\n",
    "                train_images (np.array): A numpy array with the shape (N,height,width)\n",
    "                train_labels (np.array): A numpy array with the shape (N,), where N is the number of samples and\n",
    "                has the int64 dtype.\n",
    "                eval_images (np.array): The evaluation images with similar characteristics to train_images.\n",
    "                eval_labels (np.array): The evaluation labels with similar characteristics to train_labels.\n",
    "                density_model (string): A string that is either 'Gaussian' or 'Bernoulli'.\n",
    "\n",
    "        Returns:\n",
    "                eval_acc (np.float): a floating number scalar between 0 and 1 that\n",
    "                represents the accuracy of the trained model on the evaluation data.\n",
    "    \"\"\"\n",
    "\n",
    "    assert density_model in ('Gaussian', 'Bernoulli')\n",
    "\n",
    "    # your code here\n",
    "    if density_model is 'Gaussian':\n",
    "        model = GaussianNB()\n",
    "    else:\n",
    "        model = BernoulliNB()\n",
    "    Nt = train_images.shape[0]\n",
    "    Ne = eval_images.shape[0]\n",
    "    # Vectorized all the features matrix, each pixel is a feature\n",
    "    # In other words the train ser has 28 x 28 = 748 features\n",
    "    train_images_ = train_images.reshape(Nt, -1)\n",
    "    eval_images_ = eval_images.reshape(Ne, -1)\n",
    "    model.fit(train_images_, train_labels)\n",
    "    pred_labels = model.predict(eval_images_)\n",
    "    positives = (eval_labels == pred_labels).sum()\n",
    "    eval_acc = positives / Ne\n",
    "\n",
    "    return eval_acc\n",
    "\n",
    "acc_nbg_thr = train_nb_eval_acc(train_images_threshed, train_labels,\n",
    "                                eval_images_threshed, eval_labels, density_model='Gaussian')\n",
    "acc_nbb_thr = train_nb_eval_acc(train_images_threshed, train_labels,\n",
    "                                eval_images_threshed, eval_labels, density_model='Bernoulli')\n",
    "acc_nbg_sbb = train_nb_eval_acc(train_images_sbb, train_labels,\n",
    "                                eval_images_sbb, eval_labels, density_model='Gaussian')\n",
    "acc_nbb_sbb = train_nb_eval_acc(train_images_sbb, train_labels,\n",
    "                                eval_images_sbb, eval_labels, density_model='Bernoulli')\n",
    "\n",
    "df = pd.DataFrame([('Untouched images', acc_nbg_thr, acc_nbb_thr),\n",
    "                   ('Stretched bounding box', acc_nbg_sbb, acc_nbb_sbb)\n",
    "                  ], columns = ['Accuracy' , 'Gaussian', 'Bernoulli'])\n",
    "\n",
    "df"
   ],
   "metadata": {
    "collapsed": false,
    "pycharm": {
     "name": "#%%\n"
    }
   }
  },
  {
   "cell_type": "code",
   "execution_count": 45,
   "outputs": [],
   "source": [
    "def train_tree_eval_acc(train_images, train_labels, eval_images, eval_labels, tree_num=10, tree_depth=4, random_state=12345):\n",
    "    \"\"\"\n",
    "    Trains Naive Bayes models, apply the model, and return an accuracy.\n",
    "\n",
    "        Parameters:\n",
    "                train_images (np.array): A numpy array with the shape (N,height,width)\n",
    "                train_labels (np.array): A numpy array with the shape (N,), where N is the number of samples and\n",
    "                has the int64 dtype.\n",
    "                eval_images (np.array): The evaluation images with similar characteristics to train_images.\n",
    "                eval_labels (np.array): The evaluation labels with similar characteristics to train_labels.\n",
    "                tree_num (int): An integer number representing the number of trees in the decision forest.\n",
    "                tree_depth (int): An integer number representing the maximum tree depth in the decision forest.\n",
    "                random_state (int): An integer with a default value of 12345 that should be passed to\n",
    "                the scikit-learn's classifer constructor for reproducibility and auto-grading\n",
    "\n",
    "        Returns:\n",
    "                eval_acc (np.float): a floating number scalar between 0 and 1 that\n",
    "                represents the accuracy of the trained model on the evaluation data.\n",
    "    \"\"\"\n",
    "\n",
    "    tree_num = int(tree_num)\n",
    "    tree_depth = int(tree_depth)\n",
    "    random_state = int(random_state)\n",
    "\n",
    "    # your code here\n",
    "    model = RandomForestClassifier(n_estimators=tree_num, max_depth=tree_depth, random_state=random_state)\n",
    "    Nt = train_images.shape[0]\n",
    "    Ne = eval_images.shape[0]\n",
    "    # Vectorized all the features matrix, each pixel is a feature\n",
    "    # In other words the train ser has 28 x 28 = 748 features\n",
    "    train_images_ = train_images.reshape(Nt, -1)\n",
    "    eval_images_ = eval_images.reshape(Ne, -1)\n",
    "    model.fit(train_images_, train_labels)\n",
    "    pred_labels = model.predict(eval_images_)\n",
    "    positives = (eval_labels == pred_labels).sum()\n",
    "    eval_acc = positives / Ne\n",
    "\n",
    "    return eval_acc\n"
   ],
   "metadata": {
    "collapsed": false,
    "pycharm": {
     "name": "#%%\n"
    }
   }
  },
  {
   "cell_type": "code",
   "execution_count": 46,
   "outputs": [
    {
     "name": "stdout",
     "output_type": "stream",
     "text": [
      "Untouched Images:\n",
      "      Accuracy  depth=4  depth=8  depth=16\n",
      "0  #trees = 10   0.7496   0.8923    0.9489\n",
      "1  #trees = 20   0.7707   0.9127    0.9585\n",
      "2  #trees = 30   0.7883   0.9169    0.9630\n"
     ]
    }
   ],
   "source": [
    "# 2.1 Accuracy on the Untouched Images\n",
    "\n",
    "df = None\n",
    "if perform_computation:\n",
    "    print('This is gonna take a while to finish...')\n",
    "    tree_nums = [10, 20, 30]\n",
    "    tree_depths = [4, 8, 16]\n",
    "\n",
    "    train_images = train_images_threshed\n",
    "    eval_images = eval_images_threshed\n",
    "    acc_arr_unt = np.zeros((len(tree_nums), len(tree_depths)))\n",
    "    for row, tree_num in enumerate(tree_nums):\n",
    "        for col, tree_depth in enumerate(tree_depths):\n",
    "            acc_arr_unt[row, col] = train_tree_eval_acc(train_images, train_labels, eval_images, eval_labels,\n",
    "                                                        tree_num=tree_num, tree_depth=tree_depth, random_state=12345)\n",
    "\n",
    "    df = pd.DataFrame([(f'#trees = {tree_num}', *tuple(acc_arr_unt[row])) for row, tree_num in enumerate(tree_nums)],\n",
    "                      columns = ['Accuracy'] + [f'depth={tree_depth}'for col, tree_depth in enumerate(tree_depths)])\n",
    "\n",
    "    print('Untouched Images:')\n",
    "df"
   ],
   "metadata": {
    "collapsed": false,
    "pycharm": {
     "name": "#%%\n"
    }
   }
  },
  {
   "cell_type": "code",
   "execution_count": 47,
   "outputs": [
    {
     "name": "stdout",
     "output_type": "stream",
     "text": [
      "This is gonna take a while to finish...\n",
      "Stretched Bounding Box Images:\n"
     ]
    },
    {
     "data": {
      "text/plain": "      Accuracy  depth = 4  depth = 8  depth = 16\n0  #trees = 10     0.6935     0.8657      0.9341\n1  #trees = 20     0.7202     0.8831      0.9472\n2  #trees = 30     0.7341     0.8863      0.9507",
      "text/html": "<div>\n<style scoped>\n    .dataframe tbody tr th:only-of-type {\n        vertical-align: middle;\n    }\n\n    .dataframe tbody tr th {\n        vertical-align: top;\n    }\n\n    .dataframe thead th {\n        text-align: right;\n    }\n</style>\n<table border=\"1\" class=\"dataframe\">\n  <thead>\n    <tr style=\"text-align: right;\">\n      <th></th>\n      <th>Accuracy</th>\n      <th>depth = 4</th>\n      <th>depth = 8</th>\n      <th>depth = 16</th>\n    </tr>\n  </thead>\n  <tbody>\n    <tr>\n      <th>0</th>\n      <td>#trees = 10</td>\n      <td>0.6935</td>\n      <td>0.8657</td>\n      <td>0.9341</td>\n    </tr>\n    <tr>\n      <th>1</th>\n      <td>#trees = 20</td>\n      <td>0.7202</td>\n      <td>0.8831</td>\n      <td>0.9472</td>\n    </tr>\n    <tr>\n      <th>2</th>\n      <td>#trees = 30</td>\n      <td>0.7341</td>\n      <td>0.8863</td>\n      <td>0.9507</td>\n    </tr>\n  </tbody>\n</table>\n</div>"
     },
     "execution_count": 47,
     "metadata": {},
     "output_type": "execute_result"
    }
   ],
   "source": [
    "# 2.2 Accuracy on the \"Stretched Bounding Box\" Images\n",
    "\n",
    "df = None\n",
    "if perform_computation:\n",
    "    print('This is gonna take a while to finish...')\n",
    "    tree_nums = [10, 20, 30]\n",
    "    tree_depths = [4, 8, 16]\n",
    "\n",
    "    train_images = train_images_sbb\n",
    "    eval_images = eval_images_sbb\n",
    "    acc_arr_sbb = np.zeros((len(tree_nums), len(tree_depths)))\n",
    "    for row, tree_num in enumerate(tree_nums):\n",
    "        for col, tree_depth in enumerate(tree_depths):\n",
    "            acc_arr_sbb[row, col] = train_tree_eval_acc(train_images, train_labels, eval_images, eval_labels,\n",
    "                                                        tree_num=tree_num, tree_depth=tree_depth, random_state=12345)\n",
    "\n",
    "    df = pd.DataFrame([(f'#trees = {tree_num}', *tuple(acc_arr_sbb[row])) for row, tree_num in enumerate(tree_nums)],\n",
    "                      columns = ['Accuracy'] + [f'depth = {tree_depth}'for col, tree_depth in enumerate(tree_depths)])\n",
    "\n",
    "    print('Stretched Bounding Box Images:')\n",
    "df"
   ],
   "metadata": {
    "collapsed": false,
    "pycharm": {
     "name": "#%%\n"
    }
   }
  },
  {
   "cell_type": "code",
   "execution_count": 48,
   "outputs": [
    {
     "name": "stdout",
     "output_type": "stream",
     "text": [
      "This is gonna take a while to finish...\n",
      "Bounding Box Images:\n"
     ]
    },
    {
     "data": {
      "text/plain": "      Accuracy  depth = 4  depth = 8  depth = 16\n0  #trees = 10     0.7406     0.8865      0.9476\n1  #trees = 20     0.7716     0.9050      0.9576\n2  #trees = 30     0.7801     0.9089      0.9608",
      "text/html": "<div>\n<style scoped>\n    .dataframe tbody tr th:only-of-type {\n        vertical-align: middle;\n    }\n\n    .dataframe tbody tr th {\n        vertical-align: top;\n    }\n\n    .dataframe thead th {\n        text-align: right;\n    }\n</style>\n<table border=\"1\" class=\"dataframe\">\n  <thead>\n    <tr style=\"text-align: right;\">\n      <th></th>\n      <th>Accuracy</th>\n      <th>depth = 4</th>\n      <th>depth = 8</th>\n      <th>depth = 16</th>\n    </tr>\n  </thead>\n  <tbody>\n    <tr>\n      <th>0</th>\n      <td>#trees = 10</td>\n      <td>0.7406</td>\n      <td>0.8865</td>\n      <td>0.9476</td>\n    </tr>\n    <tr>\n      <th>1</th>\n      <td>#trees = 20</td>\n      <td>0.7716</td>\n      <td>0.9050</td>\n      <td>0.9576</td>\n    </tr>\n    <tr>\n      <th>2</th>\n      <td>#trees = 30</td>\n      <td>0.7801</td>\n      <td>0.9089</td>\n      <td>0.9608</td>\n    </tr>\n  </tbody>\n</table>\n</div>"
     },
     "execution_count": 48,
     "metadata": {},
     "output_type": "execute_result"
    }
   ],
   "source": [
    "# 2.3 Accuracy on the \"Bounding Box\" Images\n",
    "\n",
    "df = None\n",
    "if perform_computation:\n",
    "    print('This is gonna take a while to finish...')\n",
    "    tree_nums = [10, 20, 30]\n",
    "    tree_depths = [4, 8, 16]\n",
    "\n",
    "    train_images = train_images_bb\n",
    "    eval_images = eval_images_bb\n",
    "    acc_arr_bb = np.zeros((len(tree_nums), len(tree_depths)))\n",
    "    for row, tree_num in enumerate(tree_nums):\n",
    "        for col, tree_depth in enumerate(tree_depths):\n",
    "            acc_arr_bb[row, col] = train_tree_eval_acc(train_images, train_labels, eval_images, eval_labels,\n",
    "                                                       tree_num=tree_num, tree_depth=tree_depth, random_state=12345)\n",
    "\n",
    "    df = pd.DataFrame([(f'#trees = {tree_num}', *tuple(acc_arr_bb[row])) for row, tree_num in enumerate(tree_nums)],\n",
    "                      columns = ['Accuracy'] + [f'depth = {tree_depth}'for col, tree_depth in enumerate(tree_depths)])\n",
    "\n",
    "    print('Bounding Box Images:')\n",
    "df"
   ],
   "metadata": {
    "collapsed": false,
    "pycharm": {
     "name": "#%%\n"
    }
   }
  }
 ],
 "metadata": {
  "kernelspec": {
   "display_name": "Python 3",
   "language": "python",
   "name": "python3"
  },
  "language_info": {
   "codemirror_mode": {
    "name": "ipython",
    "version": 2
   },
   "file_extension": ".py",
   "mimetype": "text/x-python",
   "name": "python",
   "nbconvert_exporter": "python",
   "pygments_lexer": "ipython2",
   "version": "2.7.6"
  }
 },
 "nbformat": 4,
 "nbformat_minor": 0
}