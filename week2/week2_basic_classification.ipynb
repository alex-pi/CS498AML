{
 "cells": [
  {
   "cell_type": "code",
   "execution_count": 3,
   "metadata": {
    "collapsed": true
   },
   "outputs": [],
   "source": [
    "%matplotlib inline\n",
    "import pandas as pd\n",
    "import numpy as np\n",
    "import seaborn as sns\n",
    "import matplotlib.pyplot as plt"
   ]
  },
  {
   "cell_type": "code",
   "execution_count": 4,
   "outputs": [
    {
     "data": {
      "text/plain": "   Pregnancies  Glucose  BloodPressure  SkinThickness  Insulin   BMI  \\\n0            6      148             72             35        0  33.6   \n1            1       85             66             29        0  26.6   \n2            8      183             64              0        0  23.3   \n3            1       89             66             23       94  28.1   \n4            0      137             40             35      168  43.1   \n\n   DiabetesPedigreeFunction  Age  Outcome  \n0                     0.627   50        1  \n1                     0.351   31        0  \n2                     0.672   32        1  \n3                     0.167   21        0  \n4                     2.288   33        1  ",
      "text/html": "<div>\n<style scoped>\n    .dataframe tbody tr th:only-of-type {\n        vertical-align: middle;\n    }\n\n    .dataframe tbody tr th {\n        vertical-align: top;\n    }\n\n    .dataframe thead th {\n        text-align: right;\n    }\n</style>\n<table border=\"1\" class=\"dataframe\">\n  <thead>\n    <tr style=\"text-align: right;\">\n      <th></th>\n      <th>Pregnancies</th>\n      <th>Glucose</th>\n      <th>BloodPressure</th>\n      <th>SkinThickness</th>\n      <th>Insulin</th>\n      <th>BMI</th>\n      <th>DiabetesPedigreeFunction</th>\n      <th>Age</th>\n      <th>Outcome</th>\n    </tr>\n  </thead>\n  <tbody>\n    <tr>\n      <th>0</th>\n      <td>6</td>\n      <td>148</td>\n      <td>72</td>\n      <td>35</td>\n      <td>0</td>\n      <td>33.6</td>\n      <td>0.627</td>\n      <td>50</td>\n      <td>1</td>\n    </tr>\n    <tr>\n      <th>1</th>\n      <td>1</td>\n      <td>85</td>\n      <td>66</td>\n      <td>29</td>\n      <td>0</td>\n      <td>26.6</td>\n      <td>0.351</td>\n      <td>31</td>\n      <td>0</td>\n    </tr>\n    <tr>\n      <th>2</th>\n      <td>8</td>\n      <td>183</td>\n      <td>64</td>\n      <td>0</td>\n      <td>0</td>\n      <td>23.3</td>\n      <td>0.672</td>\n      <td>32</td>\n      <td>1</td>\n    </tr>\n    <tr>\n      <th>3</th>\n      <td>1</td>\n      <td>89</td>\n      <td>66</td>\n      <td>23</td>\n      <td>94</td>\n      <td>28.1</td>\n      <td>0.167</td>\n      <td>21</td>\n      <td>0</td>\n    </tr>\n    <tr>\n      <th>4</th>\n      <td>0</td>\n      <td>137</td>\n      <td>40</td>\n      <td>35</td>\n      <td>168</td>\n      <td>43.1</td>\n      <td>2.288</td>\n      <td>33</td>\n      <td>1</td>\n    </tr>\n  </tbody>\n</table>\n</div>"
     },
     "execution_count": 4,
     "metadata": {},
     "output_type": "execute_result"
    }
   ],
   "source": [
    "df = pd.read_csv('../diabetes.csv')\n",
    "df.head()"
   ],
   "metadata": {
    "collapsed": false,
    "pycharm": {
     "name": "#%%\n"
    }
   }
  },
  {
   "cell_type": "code",
   "execution_count": 5,
   "outputs": [],
   "source": [
    "# Let's generate the split ourselves.\n",
    "np_random = np.random.RandomState(seed=12345)\n",
    "rand_unifs = np_random.uniform(0,1,size=df.shape[0])\n",
    "division_thresh = np.percentile(rand_unifs, 80)\n",
    "train_indicator = rand_unifs < division_thresh\n",
    "eval_indicator = rand_unifs >= division_thresh"
   ],
   "metadata": {
    "collapsed": false,
    "pycharm": {
     "name": "#%%\n"
    }
   }
  },
  {
   "cell_type": "code",
   "execution_count": 6,
   "outputs": [
    {
     "data": {
      "text/plain": "   Pregnancies  Glucose  BloodPressure  SkinThickness  Insulin   BMI  \\\n0            1       85             66             29        0  26.6   \n1            8      183             64              0        0  23.3   \n2            1       89             66             23       94  28.1   \n3            0      137             40             35      168  43.1   \n4            5      116             74              0        0  25.6   \n\n   DiabetesPedigreeFunction  Age  Outcome  \n0                     0.351   31        0  \n1                     0.672   32        1  \n2                     0.167   21        0  \n3                     2.288   33        1  \n4                     0.201   30        0  ",
      "text/html": "<div>\n<style scoped>\n    .dataframe tbody tr th:only-of-type {\n        vertical-align: middle;\n    }\n\n    .dataframe tbody tr th {\n        vertical-align: top;\n    }\n\n    .dataframe thead th {\n        text-align: right;\n    }\n</style>\n<table border=\"1\" class=\"dataframe\">\n  <thead>\n    <tr style=\"text-align: right;\">\n      <th></th>\n      <th>Pregnancies</th>\n      <th>Glucose</th>\n      <th>BloodPressure</th>\n      <th>SkinThickness</th>\n      <th>Insulin</th>\n      <th>BMI</th>\n      <th>DiabetesPedigreeFunction</th>\n      <th>Age</th>\n      <th>Outcome</th>\n    </tr>\n  </thead>\n  <tbody>\n    <tr>\n      <th>0</th>\n      <td>1</td>\n      <td>85</td>\n      <td>66</td>\n      <td>29</td>\n      <td>0</td>\n      <td>26.6</td>\n      <td>0.351</td>\n      <td>31</td>\n      <td>0</td>\n    </tr>\n    <tr>\n      <th>1</th>\n      <td>8</td>\n      <td>183</td>\n      <td>64</td>\n      <td>0</td>\n      <td>0</td>\n      <td>23.3</td>\n      <td>0.672</td>\n      <td>32</td>\n      <td>1</td>\n    </tr>\n    <tr>\n      <th>2</th>\n      <td>1</td>\n      <td>89</td>\n      <td>66</td>\n      <td>23</td>\n      <td>94</td>\n      <td>28.1</td>\n      <td>0.167</td>\n      <td>21</td>\n      <td>0</td>\n    </tr>\n    <tr>\n      <th>3</th>\n      <td>0</td>\n      <td>137</td>\n      <td>40</td>\n      <td>35</td>\n      <td>168</td>\n      <td>43.1</td>\n      <td>2.288</td>\n      <td>33</td>\n      <td>1</td>\n    </tr>\n    <tr>\n      <th>4</th>\n      <td>5</td>\n      <td>116</td>\n      <td>74</td>\n      <td>0</td>\n      <td>0</td>\n      <td>25.6</td>\n      <td>0.201</td>\n      <td>30</td>\n      <td>0</td>\n    </tr>\n  </tbody>\n</table>\n</div>"
     },
     "execution_count": 6,
     "metadata": {},
     "output_type": "execute_result"
    }
   ],
   "source": [
    "train_df = df[train_indicator].reset_index(drop=True)\n",
    "train_features = train_df.loc[:, train_df.columns != 'Outcome'].values\n",
    "train_labels = train_df['Outcome'].values\n",
    "train_df.head()"
   ],
   "metadata": {
    "collapsed": false,
    "pycharm": {
     "name": "#%%\n"
    }
   }
  },
  {
   "cell_type": "code",
   "execution_count": 7,
   "outputs": [
    {
     "data": {
      "text/plain": "   Pregnancies  Glucose  BloodPressure  SkinThickness  Insulin   BMI  \\\n0            6      148             72             35        0  33.6   \n1            3       78             50             32       88  31.0   \n2           10      168             74              0        0  38.0   \n3            0      118             84             47      230  45.8   \n4            7      107             74              0        0  29.6   \n\n   DiabetesPedigreeFunction  Age  Outcome  \n0                     0.627   50        1  \n1                     0.248   26        1  \n2                     0.537   34        1  \n3                     0.551   31        1  \n4                     0.254   31        1  ",
      "text/html": "<div>\n<style scoped>\n    .dataframe tbody tr th:only-of-type {\n        vertical-align: middle;\n    }\n\n    .dataframe tbody tr th {\n        vertical-align: top;\n    }\n\n    .dataframe thead th {\n        text-align: right;\n    }\n</style>\n<table border=\"1\" class=\"dataframe\">\n  <thead>\n    <tr style=\"text-align: right;\">\n      <th></th>\n      <th>Pregnancies</th>\n      <th>Glucose</th>\n      <th>BloodPressure</th>\n      <th>SkinThickness</th>\n      <th>Insulin</th>\n      <th>BMI</th>\n      <th>DiabetesPedigreeFunction</th>\n      <th>Age</th>\n      <th>Outcome</th>\n    </tr>\n  </thead>\n  <tbody>\n    <tr>\n      <th>0</th>\n      <td>6</td>\n      <td>148</td>\n      <td>72</td>\n      <td>35</td>\n      <td>0</td>\n      <td>33.6</td>\n      <td>0.627</td>\n      <td>50</td>\n      <td>1</td>\n    </tr>\n    <tr>\n      <th>1</th>\n      <td>3</td>\n      <td>78</td>\n      <td>50</td>\n      <td>32</td>\n      <td>88</td>\n      <td>31.0</td>\n      <td>0.248</td>\n      <td>26</td>\n      <td>1</td>\n    </tr>\n    <tr>\n      <th>2</th>\n      <td>10</td>\n      <td>168</td>\n      <td>74</td>\n      <td>0</td>\n      <td>0</td>\n      <td>38.0</td>\n      <td>0.537</td>\n      <td>34</td>\n      <td>1</td>\n    </tr>\n    <tr>\n      <th>3</th>\n      <td>0</td>\n      <td>118</td>\n      <td>84</td>\n      <td>47</td>\n      <td>230</td>\n      <td>45.8</td>\n      <td>0.551</td>\n      <td>31</td>\n      <td>1</td>\n    </tr>\n    <tr>\n      <th>4</th>\n      <td>7</td>\n      <td>107</td>\n      <td>74</td>\n      <td>0</td>\n      <td>0</td>\n      <td>29.6</td>\n      <td>0.254</td>\n      <td>31</td>\n      <td>1</td>\n    </tr>\n  </tbody>\n</table>\n</div>"
     },
     "execution_count": 7,
     "metadata": {},
     "output_type": "execute_result"
    }
   ],
   "source": [
    "eval_df = df[eval_indicator].reset_index(drop=True)\n",
    "eval_features = eval_df.loc[:, eval_df.columns != 'Outcome'].values\n",
    "eval_labels = eval_df['Outcome'].values\n",
    "eval_df.head()"
   ],
   "metadata": {
    "collapsed": false,
    "pycharm": {
     "name": "#%%\n"
    }
   }
  },
  {
   "cell_type": "code",
   "execution_count": 8,
   "outputs": [
    {
     "data": {
      "text/plain": "((614, 8), (614,), (154, 8), (154,))"
     },
     "execution_count": 8,
     "metadata": {},
     "output_type": "execute_result"
    }
   ],
   "source": [
    "train_features.shape, train_labels.shape, eval_features.shape, eval_labels.shape"
   ],
   "metadata": {
    "collapsed": false,
    "pycharm": {
     "name": "#%%\n"
    }
   }
  },
  {
   "cell_type": "code",
   "execution_count": 9,
   "outputs": [],
   "source": [
    "train_df_with_nans = train_df.copy(deep=True)\n",
    "eval_df_with_nans = eval_df.copy(deep=True)\n",
    "for col_with_nans in ['BloodPressure', 'SkinThickness', 'BMI', 'Age']:\n",
    "    train_df_with_nans[col_with_nans] = train_df_with_nans[col_with_nans].replace(0, np.nan)\n",
    "    eval_df_with_nans[col_with_nans] = eval_df_with_nans[col_with_nans].replace(0, np.nan)\n",
    "train_features_with_nans = train_df_with_nans.loc[:, train_df_with_nans.columns != 'Outcome'].values\n",
    "eval_features_with_nans = eval_df_with_nans.loc[:, eval_df_with_nans.columns != 'Outcome'].values"
   ],
   "metadata": {
    "collapsed": false,
    "pycharm": {
     "name": "#%%\n"
    }
   }
  },
  {
   "cell_type": "code",
   "execution_count": 10,
   "outputs": [
    {
     "name": "stdout",
     "output_type": "stream",
     "text": [
      "Here are the training rows with at least one missing values.\n",
      "\n",
      "You can see that such incomplete data points constitute a substantial part of the data.\n",
      "\n"
     ]
    },
    {
     "data": {
      "text/plain": "(186, 9)"
     },
     "execution_count": 10,
     "metadata": {},
     "output_type": "execute_result"
    }
   ],
   "source": [
    "print('Here are the training rows with at least one missing values.')\n",
    "print('')\n",
    "print('You can see that such incomplete data points constitute a substantial part of the data.')\n",
    "print('')\n",
    "nan_training_data = train_df_with_nans[train_df_with_nans.isna().any(axis=1)]\n",
    "nan_training_data.shape"
   ],
   "metadata": {
    "collapsed": false,
    "pycharm": {
     "name": "#%%\n"
    }
   }
  },
  {
   "cell_type": "code",
   "execution_count": 11,
   "outputs": [
    {
     "name": "stdout",
     "output_type": "stream",
     "text": [
      "[[-0.91629073]\n",
      " [-0.51082562]]\n"
     ]
    }
   ],
   "source": [
    "def log_prior(train_labels):\n",
    "\n",
    "    py1 = np.sum(train_labels) / train_labels.shape[0]\n",
    "    log_py = np.array([[np.log(1 - py1)], [np.log(py1)]])\n",
    "\n",
    "    assert log_py.shape == (2,1)\n",
    "\n",
    "    return log_py\n",
    "\n",
    "some_labels = np.array([0, 1, 0, 1, 0, 0, 1, 1, 0, 0, 1, 1, 1, 1, 0, 0, 1, 1, 1, 1])\n",
    "some_log_py = log_prior(some_labels)\n",
    "print(some_log_py)\n",
    "assert np.array_equal(some_log_py.round(3), np.array([[-0.916], [-0.511]]))"
   ],
   "metadata": {
    "collapsed": false,
    "pycharm": {
     "name": "#%%\n"
    }
   }
  },
  {
   "cell_type": "code",
   "execution_count": 12,
   "outputs": [
    {
     "name": "stdout",
     "output_type": "stream",
     "text": [
      "[[  2.33333333   4.        ]\n",
      " [ 96.66666667 160.        ]\n",
      " [ 68.66666667  52.        ]\n",
      " [ 17.33333333  17.5       ]\n",
      " [ 31.33333333  84.        ]\n",
      " [ 26.76666667  33.2       ]\n",
      " [  0.26666667   1.5       ]\n",
      " [ 27.33333333  32.5       ]]\n"
     ]
    }
   ],
   "source": [
    "def cc_mean_ignore_missing2(train_features, train_labels):\n",
    "    N, d = train_features.shape\n",
    "    tf1, tf0 = train_features[train_labels == 1,:], \\\n",
    "               train_features[train_labels == 0,:]\n",
    "\n",
    "    mu_y = np.hstack([tf0.mean(axis=0).reshape(-1, 1),\n",
    "                      tf1.mean(axis=0).reshape(-1, 1)])\n",
    "\n",
    "    assert mu_y.shape == (d, 2)\n",
    "    return mu_y\n",
    "\n",
    "def cc_mean_ignore_missing(train_features, train_labels):\n",
    "    N, d = train_features.shape\n",
    "    ## Try to implement with matrix multiplication\n",
    "    tf01 = (train_labels[:,np.newaxis] == np.array([0, 1])).astype(np.int)\n",
    "    mu_y = (train_features.T @ tf01) / tf01.sum(axis=0)\n",
    "\n",
    "    assert mu_y.shape == (d, 2)\n",
    "    return mu_y\n",
    "\n",
    "# Performing sanity checks on your implementation\n",
    "\n",
    "some_feats = np.array([[  1. ,  85. ,  66. ,  29. ,   0. ,  26.6,   0.4,  31. ],\n",
    "                       [  8. , 183. ,  64. ,   0. ,   0. ,  23.3,   0.7,  32. ],\n",
    "                       [  1. ,  89. ,  66. ,  23. ,  94. ,  28.1,   0.2,  21. ],\n",
    "                       [  0. , 137. ,  40. ,  35. , 168. ,  43.1,   2.3,  33. ],\n",
    "                       [  5. , 116. ,  74. ,   0. ,   0. ,  25.6,   0.2,  30. ]])\n",
    "some_labels = np.array([0, 1, 0, 1, 0])\n",
    "\n",
    "some_mu_y = cc_mean_ignore_missing2(some_feats, some_labels)\n",
    "print(some_mu_y)\n",
    "assert np.array_equal(some_mu_y.round(2), np.array([[  2.33,   4.  ],\n",
    "                                                    [ 96.67, 160.  ],\n",
    "                                                    [ 68.67,  52.  ],\n",
    "                                                    [ 17.33,  17.5 ],\n",
    "                                                    [ 31.33,  84.  ],\n",
    "                                                    [ 26.77,  33.2 ],\n",
    "                                                    [  0.27,   1.5 ],\n",
    "                                                    [ 27.33,  32.5 ]]))\n",
    "\n",
    "#print(cc_mean_ignore_missing2(some_feats, some_labels))"
   ],
   "metadata": {
    "collapsed": false,
    "pycharm": {
     "name": "#%%\n"
    }
   }
  },
  {
   "cell_type": "code",
   "execution_count": 13,
   "outputs": [
    {
     "name": "stdout",
     "output_type": "stream",
     "text": [
      "[[ 1.88561808  4.        ]\n",
      " [13.76791762 23.        ]\n",
      " [ 3.77123617 12.        ]\n",
      " [12.49888884 17.5       ]\n",
      " [44.31202495 84.        ]\n",
      " [ 1.02740233  9.9       ]\n",
      " [ 0.0942809   0.8       ]\n",
      " [ 4.49691252  0.5       ]]\n"
     ]
    }
   ],
   "source": [
    "def cc_std_ignore_missing(train_features, train_labels):\n",
    "    N, d = train_features.shape\n",
    "\n",
    "    # your code here\n",
    "    sty1 = np.std(train_features[train_labels == 1,:], axis=0).reshape(-1, 1)\n",
    "    sty0 = np.std(train_features[train_labels == 0,:], axis=0).reshape(-1, 1)\n",
    "    sigma_y = np.hstack([sty0, sty1])\n",
    "\n",
    "    assert sigma_y.shape == (d, 2)\n",
    "\n",
    "    return sigma_y\n",
    "\n",
    "# Performing sanity checks on your implementation\n",
    "\n",
    "some_feats = np.array([[  1. ,  85. ,  66. ,  29. ,   0. ,  26.6,   0.4,  31. ],\n",
    "                       [  8. , 183. ,  64. ,   0. ,   0. ,  23.3,   0.7,  32. ],\n",
    "                       [  1. ,  89. ,  66. ,  23. ,  94. ,  28.1,   0.2,  21. ],\n",
    "                       [  0. , 137. ,  40. ,  35. , 168. ,  43.1,   2.3,  33. ],\n",
    "                       [  5. , 116. ,  74. ,   0. ,   0. ,  25.6,   0.2,  30. ]])\n",
    "some_labels = np.array([0, 1, 0, 1, 0])\n",
    "\n",
    "some_std_y = cc_std_ignore_missing(some_feats, some_labels)\n",
    "print(some_std_y)\n",
    "assert np.array_equal(some_std_y.round(3), np.array([[ 1.886,  4.   ],\n",
    "                                                     [13.768, 23.   ],\n",
    "                                                     [ 3.771, 12.   ],\n",
    "                                                     [12.499, 17.5  ],\n",
    "                                                     [44.312, 84.   ],\n",
    "                                                     [ 1.027,  9.9  ],\n",
    "                                                     [ 0.094,  0.8  ],\n",
    "                                                     [ 4.497,  0.5  ]]))"
   ],
   "metadata": {
    "collapsed": false,
    "pycharm": {
     "name": "#%%\n"
    }
   }
  },
  {
   "cell_type": "code",
   "execution_count": 14,
   "outputs": [],
   "source": [
    "def log_prob(train_features, mu_y, sigma_y, log_py):\n",
    "    N, d = train_features.shape\n",
    "\n",
    "    mu_01 = np.hstack([mu_y[:, 0], mu_y[:, 1]])\n",
    "    #print(mu_01)\n",
    "    st_01 = np.hstack([sigma_y[:, 0], sigma_y[:, 1]])\n",
    "    #logpy_0 = some_log_py[0, 0]\n",
    "    x2t = np.hstack([train_features, train_features])\n",
    "    #print(x2t)\n",
    "    a = ((x2t - mu_01)**2) / (st_01**2)\n",
    "    b = np.log(1 / ( st_01 * (np.sqrt(2*np.pi)) ))\n",
    "    c = b - (a / 2)\n",
    "    log_p_x_y = c.reshape(-1,2,d).sum(axis=2) + log_py.reshape(1, -1)\n",
    "\n",
    "\n",
    "    assert log_p_x_y.shape == (N,2)\n",
    "    return log_p_x_y\n",
    "\n",
    "some_feats = np.array([[  1. ,  85. ,  66. ,  29. ,   0. ,  26.6,   0.4,  31. ],\n",
    "                       [  8. , 183. ,  64. ,   0. ,   0. ,  23.3,   0.7,  32. ],\n",
    "                       [  1. ,  89. ,  66. ,  23. ,  94. ,  28.1,   0.2,  21. ],\n",
    "                       [  0. , 137. ,  40. ,  35. , 168. ,  43.1,   2.3,  33. ],\n",
    "                       [  5. , 116. ,  74. ,   0. ,   0. ,  25.6,   0.2,  30. ]])\n",
    "some_labels = np.array([0, 1, 0, 1, 0])\n",
    "\n",
    "some_mu_y = cc_mean_ignore_missing(some_feats, some_labels)\n",
    "#print(f'some_mu_y={some_mu_y}')\n",
    "some_std_y = cc_std_ignore_missing(some_feats, some_labels)\n",
    "#print(f'some_std_y={some_std_y}')\n",
    "some_log_py = log_prior(some_labels)\n",
    "#print(f'some_log_py={some_log_py}')\n",
    "\n",
    "some_log_p_x_y = log_prob(some_feats, some_mu_y, some_std_y, some_log_py)\n",
    "assert np.array_equal(some_log_p_x_y.round(3), np.array([[ -20.822,  -36.606],\n",
    "                                                         [ -60.879,  -27.944],\n",
    "                                                         [ -21.774, -295.68 ],\n",
    "                                                         [-417.359,  -27.944],\n",
    "                                                         [ -23.2  ,  -42.6  ]]))"
   ],
   "metadata": {
    "collapsed": false,
    "pycharm": {
     "name": "#%%\n"
    }
   }
  },
  {
   "cell_type": "code",
   "execution_count": 15,
   "outputs": [
    {
     "name": "stdout",
     "output_type": "stream",
     "text": [
      "[ -20.8224128   -60.87893018  -21.77385572 -417.35938061  -23.20026355]\n"
     ]
    }
   ],
   "source": [
    "## Calculate only for p(y=0) -> logpy_0\n",
    "x1 = np.array([[  1. ,  85. ,  66. ,  29. ,   0. ,  26.6,   0.4,  31. ],\n",
    "                 [  8. , 183. ,  64. ,   0. ,   0. ,  23.3,   0.7,  32. ],\n",
    "                 [  1. ,  89. ,  66. ,  23. ,  94. ,  28.1,   0.2,  21. ],\n",
    "                 [  0. , 137. ,  40. ,  35. , 168. ,  43.1,   2.3,  33. ],\n",
    "                 [  5. , 116. ,  74. ,   0. ,   0. ,  25.6,   0.2,  30. ]])\n",
    "mu_0 = some_mu_y[:, 0]\n",
    "st_0 = some_std_y[:, 0]\n",
    "logpy_0 = some_log_py[0, 0]\n",
    "N = x1.shape[0]\n",
    "#mymu = np.array([[1, 2],[1, 2],[1, 2]])\n",
    "a = ((x1 - mu_0)**2) / (st_0**2)\n",
    "#x = (x / -2)\n",
    "b = np.log(1 / ( st_0 * (np.sqrt(2*np.pi)) ))\n",
    "c = b - (a / 2)\n",
    "print(c.sum(axis=1) + logpy_0)"
   ],
   "metadata": {
    "collapsed": false,
    "pycharm": {
     "name": "#%%\n"
    }
   }
  },
  {
   "cell_type": "code",
   "execution_count": 16,
   "outputs": [
    {
     "name": "stdout",
     "output_type": "stream",
     "text": [
      "[[  3.           4.        ]\n",
      " [ 96.66666667 137.        ]\n",
      " [ 66.          52.        ]\n",
      " [ 14.5         17.5       ]\n",
      " [ 31.33333333   0.        ]\n",
      " [ 26.76666667  33.2       ]\n",
      " [  0.26666667   1.5       ]\n",
      " [ 27.33333333  32.5       ]]\n"
     ]
    }
   ],
   "source": [
    "def cc_mean_consider_missing(train_features_with_nans, train_labels):\n",
    "    N, d = train_features_with_nans.shape\n",
    "\n",
    "    # your code here\n",
    "    tf1, tf0 = train_features_with_nans[train_labels == 1,:], \\\n",
    "               train_features_with_nans[train_labels == 0,:]\n",
    "\n",
    "    mu_y = np.hstack([np.nanmean(tf0, axis=0).reshape(-1, 1),\n",
    "                      np.nanmean(tf1, axis=0).reshape(-1, 1)])\n",
    "\n",
    "    assert not np.isnan(mu_y).any()\n",
    "    assert mu_y.shape == (d, 2)\n",
    "    return mu_y\n",
    "\n",
    "some_feats = np.array([[  1. ,  85. ,  66. ,  29. ,   0. ,  26.6,   0.4,  31. ],\n",
    "                       [  8. , 183. ,  64. ,   0. ,   0. ,  23.3,   0.7,  32. ],\n",
    "                       [  1. ,  89. ,  66. ,  23. ,  94. ,  28.1,   0.2,  21. ],\n",
    "                       [  0. , 137. ,  40. ,  35. , 168. ,  43.1,   2.3,  33. ],\n",
    "                       [  5. , 116. ,  74. ,   0. ,   0. ,  25.6,   0.2,  30. ]])\n",
    "some_labels = np.array([0, 1, 0, 1, 0])\n",
    "\n",
    "for i,j in [(0,0), (1,1), (2,3), (3,4), (4, 2)]:\n",
    "    some_feats[i,j] = np.nan\n",
    "\n",
    "some_mu_y = cc_mean_consider_missing(some_feats, some_labels)\n",
    "print(some_mu_y)\n",
    "\n",
    "assert np.array_equal(some_mu_y.round(2), np.array([[  3.  ,   4.  ],\n",
    "                                                    [ 96.67, 137.  ],\n",
    "                                                    [ 66.  ,  52.  ],\n",
    "                                                    [ 14.5 ,  17.5 ],\n",
    "                                                    [ 31.33,   0.  ],\n",
    "                                                    [ 26.77,  33.2 ],\n",
    "                                                    [  0.27,   1.5 ],\n",
    "                                                    [ 27.33,  32.5 ]]))"
   ],
   "metadata": {
    "collapsed": false,
    "pycharm": {
     "name": "#%%\n"
    }
   }
  },
  {
   "cell_type": "code",
   "execution_count": 17,
   "outputs": [
    {
     "name": "stdout",
     "output_type": "stream",
     "text": [
      "[[ 2.          4.        ]\n",
      " [13.76791762  0.        ]\n",
      " [ 0.         12.        ]\n",
      " [14.5        17.5       ]\n",
      " [44.31202495  0.        ]\n",
      " [ 1.02740233  9.9       ]\n",
      " [ 0.0942809   0.8       ]\n",
      " [ 4.49691252  0.5       ]]\n"
     ]
    }
   ],
   "source": [
    "def cc_std_consider_missing(train_features_with_nans, train_labels):\n",
    "    N, d = train_features_with_nans.shape\n",
    "\n",
    "    # your code here\n",
    "    sty1 = np.nanstd(train_features_with_nans[train_labels == 1,:], axis=0).reshape(-1, 1)\n",
    "    sty0 = np.nanstd(train_features_with_nans[train_labels == 0,:], axis=0).reshape(-1, 1)\n",
    "    sigma_y = np.hstack([sty0, sty1])\n",
    "\n",
    "\n",
    "    assert not np.isnan(sigma_y).any()\n",
    "    assert sigma_y.shape == (d, 2)\n",
    "    return sigma_y\n",
    "\n",
    "some_feats = np.array([[  1. ,  85. ,  66. ,  29. ,   0. ,  26.6,   0.4,  31. ],\n",
    "                       [  8. , 183. ,  64. ,   0. ,   0. ,  23.3,   0.7,  32. ],\n",
    "                       [  1. ,  89. ,  66. ,  23. ,  94. ,  28.1,   0.2,  21. ],\n",
    "                       [  0. , 137. ,  40. ,  35. , 168. ,  43.1,   2.3,  33. ],\n",
    "                       [  5. , 116. ,  74. ,   0. ,   0. ,  25.6,   0.2,  30. ]])\n",
    "some_labels = np.array([0, 1, 0, 1, 0])\n",
    "\n",
    "for i,j in [(0,0), (1,1), (2,3), (3,4), (4, 2)]:\n",
    "    some_feats[i,j] = np.nan\n",
    "\n",
    "some_std_y = cc_std_consider_missing(some_feats, some_labels)\n",
    "print(some_std_y)\n",
    "\n",
    "assert np.array_equal(some_std_y.round(2), np.array([[ 2.  ,  4.  ],\n",
    "                                                     [13.77,  0.  ],\n",
    "                                                     [ 0.  , 12.  ],\n",
    "                                                     [14.5 , 17.5 ],\n",
    "                                                     [44.31,  0.  ],\n",
    "                                                     [ 1.03,  9.9 ],\n",
    "                                                     [ 0.09,  0.8 ],\n",
    "                                                     [ 4.5 ,  0.5 ]]))"
   ],
   "metadata": {
    "collapsed": false,
    "pycharm": {
     "name": "#%%\n"
    }
   }
  }
 ],
 "metadata": {
  "kernelspec": {
   "display_name": "Python 3",
   "language": "python",
   "name": "python3"
  },
  "language_info": {
   "codemirror_mode": {
    "name": "ipython",
    "version": 2
   },
   "file_extension": ".py",
   "mimetype": "text/x-python",
   "name": "python",
   "nbconvert_exporter": "python",
   "pygments_lexer": "ipython2",
   "version": "2.7.6"
  }
 },
 "nbformat": 4,
 "nbformat_minor": 0
}