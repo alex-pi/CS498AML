{
 "cells": [
  {
   "cell_type": "code",
   "execution_count": 1,
   "metadata": {
    "collapsed": true
   },
   "outputs": [],
   "source": [
    "%matplotlib inline\n",
    "%load_ext autoreload\n",
    "%autoreload 2\n",
    "\n",
    "import matplotlib.pyplot as plt\n",
    "import numpy as np\n",
    "import os\n",
    "import pandas as pd\n",
    "\n",
    "from scipy.special import expit"
   ]
  },
  {
   "cell_type": "code",
   "execution_count": 5,
   "outputs": [
    {
     "ename": "FileNotFoundError",
     "evalue": "[Errno 2] No such file or directory: 'data/mnist.npz'",
     "output_type": "error",
     "traceback": [
      "\u001B[1;31m---------------------------------------------------------------------------\u001B[0m",
      "\u001B[1;31mFileNotFoundError\u001B[0m                         Traceback (most recent call last)",
      "\u001B[1;32m<ipython-input-5-c58f510a82cc>\u001B[0m in \u001B[0;36m<module>\u001B[1;34m\u001B[0m\n\u001B[0;32m     18\u001B[0m \u001B[1;33m\u001B[0m\u001B[0m\n\u001B[0;32m     19\u001B[0m     np.savez('data/mnist.npz', train_images_raw=train_images_raw, train_labels=train_labels,\n\u001B[1;32m---> 20\u001B[1;33m              eval_images_raw=eval_images_raw, eval_labels=eval_labels)\n\u001B[0m\u001B[0;32m     21\u001B[0m \u001B[1;33m\u001B[0m\u001B[0m\n",
      "\u001B[1;32m<__array_function__ internals>\u001B[0m in \u001B[0;36msavez\u001B[1;34m(*args, **kwargs)\u001B[0m\n",
      "\u001B[1;32mc:\\users\\alejanpi\\appdata\\local\\programs\\python\\python37\\lib\\site-packages\\numpy\\lib\\npyio.py\u001B[0m in \u001B[0;36msavez\u001B[1;34m(file, *args, **kwds)\u001B[0m\n\u001B[0;32m    643\u001B[0m     \u001B[0marray\u001B[0m\u001B[1;33m(\u001B[0m\u001B[1;33m[\u001B[0m\u001B[1;36m0\u001B[0m\u001B[1;33m,\u001B[0m \u001B[1;36m1\u001B[0m\u001B[1;33m,\u001B[0m \u001B[1;36m2\u001B[0m\u001B[1;33m,\u001B[0m \u001B[1;36m3\u001B[0m\u001B[1;33m,\u001B[0m \u001B[1;36m4\u001B[0m\u001B[1;33m,\u001B[0m \u001B[1;36m5\u001B[0m\u001B[1;33m,\u001B[0m \u001B[1;36m6\u001B[0m\u001B[1;33m,\u001B[0m \u001B[1;36m7\u001B[0m\u001B[1;33m,\u001B[0m \u001B[1;36m8\u001B[0m\u001B[1;33m,\u001B[0m \u001B[1;36m9\u001B[0m\u001B[1;33m]\u001B[0m\u001B[1;33m)\u001B[0m\u001B[1;33m\u001B[0m\u001B[1;33m\u001B[0m\u001B[0m\n\u001B[0;32m    644\u001B[0m     \"\"\"\n\u001B[1;32m--> 645\u001B[1;33m     \u001B[0m_savez\u001B[0m\u001B[1;33m(\u001B[0m\u001B[0mfile\u001B[0m\u001B[1;33m,\u001B[0m \u001B[0margs\u001B[0m\u001B[1;33m,\u001B[0m \u001B[0mkwds\u001B[0m\u001B[1;33m,\u001B[0m \u001B[1;32mFalse\u001B[0m\u001B[1;33m)\u001B[0m\u001B[1;33m\u001B[0m\u001B[1;33m\u001B[0m\u001B[0m\n\u001B[0m\u001B[0;32m    646\u001B[0m \u001B[1;33m\u001B[0m\u001B[0m\n\u001B[0;32m    647\u001B[0m \u001B[1;33m\u001B[0m\u001B[0m\n",
      "\u001B[1;32mc:\\users\\alejanpi\\appdata\\local\\programs\\python\\python37\\lib\\site-packages\\numpy\\lib\\npyio.py\u001B[0m in \u001B[0;36m_savez\u001B[1;34m(file, args, kwds, compress, allow_pickle, pickle_kwargs)\u001B[0m\n\u001B[0;32m    741\u001B[0m         \u001B[0mcompression\u001B[0m \u001B[1;33m=\u001B[0m \u001B[0mzipfile\u001B[0m\u001B[1;33m.\u001B[0m\u001B[0mZIP_STORED\u001B[0m\u001B[1;33m\u001B[0m\u001B[1;33m\u001B[0m\u001B[0m\n\u001B[0;32m    742\u001B[0m \u001B[1;33m\u001B[0m\u001B[0m\n\u001B[1;32m--> 743\u001B[1;33m     \u001B[0mzipf\u001B[0m \u001B[1;33m=\u001B[0m \u001B[0mzipfile_factory\u001B[0m\u001B[1;33m(\u001B[0m\u001B[0mfile\u001B[0m\u001B[1;33m,\u001B[0m \u001B[0mmode\u001B[0m\u001B[1;33m=\u001B[0m\u001B[1;34m\"w\"\u001B[0m\u001B[1;33m,\u001B[0m \u001B[0mcompression\u001B[0m\u001B[1;33m=\u001B[0m\u001B[0mcompression\u001B[0m\u001B[1;33m)\u001B[0m\u001B[1;33m\u001B[0m\u001B[1;33m\u001B[0m\u001B[0m\n\u001B[0m\u001B[0;32m    744\u001B[0m \u001B[1;33m\u001B[0m\u001B[0m\n\u001B[0;32m    745\u001B[0m     \u001B[1;32mif\u001B[0m \u001B[0msys\u001B[0m\u001B[1;33m.\u001B[0m\u001B[0mversion_info\u001B[0m \u001B[1;33m>=\u001B[0m \u001B[1;33m(\u001B[0m\u001B[1;36m3\u001B[0m\u001B[1;33m,\u001B[0m \u001B[1;36m6\u001B[0m\u001B[1;33m)\u001B[0m\u001B[1;33m:\u001B[0m\u001B[1;33m\u001B[0m\u001B[1;33m\u001B[0m\u001B[0m\n",
      "\u001B[1;32mc:\\users\\alejanpi\\appdata\\local\\programs\\python\\python37\\lib\\site-packages\\numpy\\lib\\npyio.py\u001B[0m in \u001B[0;36mzipfile_factory\u001B[1;34m(file, *args, **kwargs)\u001B[0m\n\u001B[0;32m    117\u001B[0m     \u001B[1;32mimport\u001B[0m \u001B[0mzipfile\u001B[0m\u001B[1;33m\u001B[0m\u001B[1;33m\u001B[0m\u001B[0m\n\u001B[0;32m    118\u001B[0m     \u001B[0mkwargs\u001B[0m\u001B[1;33m[\u001B[0m\u001B[1;34m'allowZip64'\u001B[0m\u001B[1;33m]\u001B[0m \u001B[1;33m=\u001B[0m \u001B[1;32mTrue\u001B[0m\u001B[1;33m\u001B[0m\u001B[1;33m\u001B[0m\u001B[0m\n\u001B[1;32m--> 119\u001B[1;33m     \u001B[1;32mreturn\u001B[0m \u001B[0mzipfile\u001B[0m\u001B[1;33m.\u001B[0m\u001B[0mZipFile\u001B[0m\u001B[1;33m(\u001B[0m\u001B[0mfile\u001B[0m\u001B[1;33m,\u001B[0m \u001B[1;33m*\u001B[0m\u001B[0margs\u001B[0m\u001B[1;33m,\u001B[0m \u001B[1;33m**\u001B[0m\u001B[0mkwargs\u001B[0m\u001B[1;33m)\u001B[0m\u001B[1;33m\u001B[0m\u001B[1;33m\u001B[0m\u001B[0m\n\u001B[0m\u001B[0;32m    120\u001B[0m \u001B[1;33m\u001B[0m\u001B[0m\n\u001B[0;32m    121\u001B[0m \u001B[1;33m\u001B[0m\u001B[0m\n",
      "\u001B[1;32mc:\\users\\alejanpi\\appdata\\local\\programs\\python\\python37\\lib\\zipfile.py\u001B[0m in \u001B[0;36m__init__\u001B[1;34m(self, file, mode, compression, allowZip64, compresslevel)\u001B[0m\n\u001B[0;32m   1202\u001B[0m             \u001B[1;32mwhile\u001B[0m \u001B[1;32mTrue\u001B[0m\u001B[1;33m:\u001B[0m\u001B[1;33m\u001B[0m\u001B[1;33m\u001B[0m\u001B[0m\n\u001B[0;32m   1203\u001B[0m                 \u001B[1;32mtry\u001B[0m\u001B[1;33m:\u001B[0m\u001B[1;33m\u001B[0m\u001B[1;33m\u001B[0m\u001B[0m\n\u001B[1;32m-> 1204\u001B[1;33m                     \u001B[0mself\u001B[0m\u001B[1;33m.\u001B[0m\u001B[0mfp\u001B[0m \u001B[1;33m=\u001B[0m \u001B[0mio\u001B[0m\u001B[1;33m.\u001B[0m\u001B[0mopen\u001B[0m\u001B[1;33m(\u001B[0m\u001B[0mfile\u001B[0m\u001B[1;33m,\u001B[0m \u001B[0mfilemode\u001B[0m\u001B[1;33m)\u001B[0m\u001B[1;33m\u001B[0m\u001B[1;33m\u001B[0m\u001B[0m\n\u001B[0m\u001B[0;32m   1205\u001B[0m                 \u001B[1;32mexcept\u001B[0m \u001B[0mOSError\u001B[0m\u001B[1;33m:\u001B[0m\u001B[1;33m\u001B[0m\u001B[1;33m\u001B[0m\u001B[0m\n\u001B[0;32m   1206\u001B[0m                     \u001B[1;32mif\u001B[0m \u001B[0mfilemode\u001B[0m \u001B[1;32min\u001B[0m \u001B[0mmodeDict\u001B[0m\u001B[1;33m:\u001B[0m\u001B[1;33m\u001B[0m\u001B[1;33m\u001B[0m\u001B[0m\n",
      "\u001B[1;31mFileNotFoundError\u001B[0m: [Errno 2] No such file or directory: 'data/mnist.npz'"
     ]
    }
   ],
   "source": [
    "if os.path.exists('data/mnist.npz'):\n",
    "    npzfile = np.load('data/mnist.npz')\n",
    "    train_images_raw = npzfile['train_images_raw']\n",
    "    train_labels = npzfile['train_labels']\n",
    "    eval_images_raw = npzfile['eval_images_raw']\n",
    "    eval_labels = npzfile['eval_labels']\n",
    "else:\n",
    "    import torchvision\n",
    "    download_ = not os.path.exists('data/mnist.npz')\n",
    "    data_train = torchvision.datasets.MNIST('mnist', train=True, transform=None, target_transform=None, download=download_)\n",
    "    data_eval = torchvision.datasets.MNIST('mnist', train=False, transform=None, target_transform=None, download=download_)\n",
    "\n",
    "    train_images_raw = data_train.data.numpy()\n",
    "    train_labels = data_train.targets.numpy()\n",
    "    eval_images_raw = data_eval.data.numpy()\n",
    "    eval_labels = data_eval.targets.numpy()\n",
    "\n",
    "    np.savez('data/mnist.npz', train_images_raw=train_images_raw, train_labels=train_labels,\n",
    "             eval_images_raw=eval_images_raw, eval_labels=eval_labels)"
   ],
   "metadata": {
    "collapsed": false,
    "pycharm": {
     "name": "#%%\n"
    }
   }
  },
  {
   "cell_type": "code",
   "execution_count": 36,
   "outputs": [],
   "source": [
    "noise_flip_prob = 0.04\n",
    "perform_computation = True\n",
    "\n",
    "def show(image):\n",
    "    for row_im in image:\n",
    "        print(row_im.tolist())"
   ],
   "metadata": {
    "collapsed": false,
    "pycharm": {
     "name": "#%%\n"
    }
   }
  },
  {
   "cell_type": "code",
   "execution_count": 16,
   "outputs": [
    {
     "data": {
      "text/plain": "array([[[-1, -1, -1, ..., -1, -1, -1],\n        [-1, -1,  1, ..., -1, -1, -1],\n        [-1, -1, -1, ..., -1, -1, -1],\n        ...,\n        [-1, -1, -1, ..., -1, -1, -1],\n        [-1, -1, -1, ..., -1, -1, -1],\n        [-1, -1,  1, ..., -1,  1, -1]],\n\n       [[-1, -1, -1, ..., -1, -1,  1],\n        [-1, -1, -1, ..., -1, -1, -1],\n        [-1, -1, -1, ..., -1, -1,  1],\n        ...,\n        [-1, -1, -1, ..., -1, -1, -1],\n        [-1, -1, -1, ..., -1, -1, -1],\n        [-1, -1, -1, ..., -1, -1, -1]],\n\n       [[-1, -1, -1, ..., -1, -1, -1],\n        [-1, -1, -1, ..., -1, -1, -1],\n        [-1, -1, -1, ..., -1, -1, -1],\n        ...,\n        [-1, -1, -1, ..., -1, -1, -1],\n        [-1, -1, -1, ..., -1,  1, -1],\n        [-1, -1, -1, ..., -1, -1, -1]],\n\n       ...,\n\n       [[-1, -1, -1, ..., -1, -1, -1],\n        [-1, -1, -1, ..., -1, -1, -1],\n        [ 1, -1, -1, ..., -1, -1, -1],\n        ...,\n        [-1, -1, -1, ..., -1, -1, -1],\n        [-1, -1, -1, ..., -1, -1, -1],\n        [-1, -1, -1, ..., -1, -1, -1]],\n\n       [[-1, -1, -1, ..., -1, -1, -1],\n        [-1, -1, -1, ..., -1, -1, -1],\n        [-1, -1, -1, ..., -1,  1, -1],\n        ...,\n        [-1, -1, -1, ..., -1, -1, -1],\n        [-1, -1, -1, ..., -1, -1, -1],\n        [-1, -1, -1, ..., -1, -1, -1]],\n\n       [[-1, -1, -1, ..., -1, -1, -1],\n        [-1, -1, -1, ..., -1, -1, -1],\n        [-1, -1, -1, ..., -1, -1, -1],\n        ...,\n        [-1, -1, -1, ..., -1, -1, -1],\n        [-1, -1, -1, ..., -1, -1, -1],\n        [-1, -1,  1, ..., -1, -1,  1]]])"
     },
     "execution_count": 16,
     "metadata": {},
     "output_type": "execute_result"
    }
   ],
   "source": [
    "def get_thresholded_and_noised(images_raw, threshold, flip_flags):\n",
    "    \"\"\"\n",
    "    Thresholds image and flips pixels\n",
    "\n",
    "    Parameters\n",
    "    ----------\n",
    "    images_raw: A numpy array. Do not assume anything about its shape, dtype or range of values. Your function should be careless about these attributes.\n",
    "    threshold: A scalar value representing the cutoff threshold.\n",
    "    flip_flags: A numpy array with the same shape as images_raw and np.bool dtype. This array indicates whether each pixel should be flipped or not.\n",
    "\n",
    "    Returns\n",
    "    -------\n",
    "    some_features_normalized: A numpy array with shape (N_some, d).\n",
    "    \"\"\"\n",
    "\n",
    "    # your code here\n",
    "    mapped_noised_image =  np.logical_xor(images_raw >= threshold, flip_flags).astype(np.int32)\n",
    "    mapped_noised_image[mapped_noised_image == 0] = -1\n",
    "\n",
    "    assert (np.abs(mapped_noised_image)==1).all()\n",
    "    return mapped_noised_image.astype(np.int32)\n",
    "\n",
    "def test_thresh_noise(x, seed = 12345, p = noise_flip_prob, threshold = 128):\n",
    "    np_random = np.random.RandomState(seed=seed)\n",
    "    flip_flags = (np_random.uniform(0., 1., size=x.shape) < p)\n",
    "    return get_thresholded_and_noised(x, threshold, flip_flags)\n",
    "\n",
    "test_thresh_noise(train_images_raw)"
   ],
   "metadata": {
    "collapsed": false,
    "pycharm": {
     "name": "#%%\n"
    }
   }
  },
  {
   "cell_type": "code",
   "execution_count": 19,
   "outputs": [],
   "source": [
    "if perform_computation:\n",
    "    X_true_grayscale = train_images_raw[:10, :, :]\n",
    "\n",
    "    np_random = np.random.RandomState(seed=12345)\n",
    "    flip_flags = flip_flags = (np_random.uniform(0., 1., size=X_true_grayscale.shape) < noise_flip_prob)\n",
    "    initial_pi = np_random.uniform(0, 1, size=X_true_grayscale.shape) # Initial Random Pi values\n",
    "\n",
    "    X_true = get_thresholded_and_noised(X_true_grayscale, threshold=128, flip_flags=flip_flags * 0)\n",
    "    X_noised = get_thresholded_and_noised(X_true_grayscale, threshold=128, flip_flags=flip_flags)"
   ],
   "metadata": {
    "collapsed": false,
    "pycharm": {
     "name": "#%%\n"
    }
   }
  },
  {
   "cell_type": "code",
   "execution_count": 24,
   "outputs": [],
   "source": [
    "def sigmoid_2x(X):\n",
    "    \"\"\"\n",
    "    Computes the sigmoid_2x operation.\n",
    "\n",
    "    Parameters\n",
    "    ----------\n",
    "    X: a numpy array that can have any shape\n",
    "\n",
    "    Returns\n",
    "    -------\n",
    "    output: The function's output, in the same shape as X\n",
    "    \"\"\"\n",
    "\n",
    "    # your code here\n",
    "    output = expit(2*X)\n",
    "\n",
    "    return output\n",
    "\n",
    "assert sigmoid_2x(+np.inf) == 1.\n",
    "assert sigmoid_2x(-np.inf) == 0.\n",
    "assert np.array_equal(sigmoid_2x(np.array([0, 1])).round(3), np.array([0.5, 0.881]))"
   ],
   "metadata": {
    "collapsed": false,
    "pycharm": {
     "name": "#%%\n"
    }
   }
  },
  {
   "cell_type": "code",
   "execution_count": 42,
   "outputs": [
    {
     "name": "stdout",
     "output_type": "stream",
     "text": [
      "int32\n",
      "float64\n",
      "float64\n",
      "[1.3977471384392742e-05, 2.560379449526934e-07, 2.5601536282323365e-07, 2.560098407838954e-07, 2.560098407838954e-07, 2.5601536276567283e-07, 2.560098407838954e-07, 2.5600984077237893e-07, 2.5600984077237893e-07, 2.5600984077238026e-07, 2.5600984139012403e-07, 2.5631146256322916e-07, 0.0001474399650058141, 2.5631146256322916e-07, 2.5600984139012403e-07, 2.5600984077238026e-07, 2.5600984077237893e-07, 2.5600984077237893e-07, 2.5600984077237893e-07, 2.5600984077237893e-07, 2.5600984077237893e-07, 2.5600984077237893e-07, 2.5600984077237893e-07, 2.5600984077237893e-07, 2.5600984077237893e-07, 2.560098408299385e-07, 2.5603794494117564e-07, 1.3977471384392742e-05]\n",
      "[2.560379449413826e-07, 4.689086290879528e-09, 2.700842734305378e-06, 4.689076861062176e-09, 4.689076861062176e-09, 2.700842734305172e-06, 4.689076861058379e-09, 4.6889757223757744e-09, 4.688975722371977e-09, 4.688975722371977e-09, 4.6889757223719926e-09, 4.688975733893589e-09, 4.6945001100526345e-09, 4.688975733893589e-09, 4.6889757223719926e-09, 4.688975722371977e-09, 4.688975722371977e-09, 4.688975722371977e-09, 4.688975722371977e-09, 4.688975722371977e-09, 4.688975722371977e-09, 4.688975722371977e-09, 4.688975722371977e-09, 4.688975722371977e-09, 4.688975722371977e-09, 4.688975722372327e-09, 4.688985151989718e-09, 2.5603794494117564e-07]\n",
      "[2.560098408299385e-07, 4.688975722379923e-09, 4.689067433368526e-09, 4.688966294888901e-09, 4.688966294888901e-09, 4.689067433364378e-09, 4.688966294888901e-09, 4.688966294881322e-09, 4.688966294881322e-09, 4.688966294881322e-09, 4.688966294881322e-09, 4.688966294881322e-09, 4.6889662950885546e-09, 4.688966294881322e-09, 4.688966294881322e-09, 4.688966294881322e-09, 4.688966294881322e-09, 4.688966294881322e-09, 4.688966294881322e-09, 4.688966294885104e-09, 4.688966294881322e-09, 4.688966294881322e-09, 4.688966294881322e-09, 4.688966294881322e-09, 4.688966294885104e-09, 4.688966294881672e-09, 4.6889757223723425e-09, 2.560098408299385e-07]\n",
      "[2.5600984077237893e-07, 4.688975722379573e-09, 4.689067433164821e-09, 4.688966294888551e-09, 4.688966294880955e-09, 4.688966294884754e-09, 4.688966294880955e-09, 4.688966294880955e-09, 4.688966294880955e-09, 4.688966294880955e-09, 4.688966294880955e-09, 4.688966294880955e-09, 4.688966294880973e-09, 4.688966294895248e-09, 4.688966294900629e-09, 4.688966294900629e-09, 4.688966294901595e-09, 4.68896630349621e-09, 4.688966294892733e-09, 4.689067433160672e-09, 4.688966294892333e-09, 4.688966294880955e-09, 4.688966294884754e-09, 4.688966294888551e-09, 4.689067433160672e-09, 4.688966294888901e-09, 4.688975722371977e-09, 2.5600984077237893e-07]\n",
      "[2.560098407725863e-07, 4.689076860855039e-09, 2.7008373039827064e-06, 4.689067433160672e-09, 4.688966294884754e-09, 4.688966294880955e-09, 4.688966294880955e-09, 4.688966294880955e-09, 4.688966294880955e-09, 4.688966294880955e-09, 4.688966294880955e-09, 4.688966294880973e-09, 4.688966294924784e-09, 4.689368301093874e-09, 4.689490485797025e-09, 4.689490526832782e-09, 4.689516136985671e-09, 4.918634293615169e-09, 4.689178750570503e-09, 2.700837303993976e-06, 4.68916857580733e-09, 4.688966294899929e-09, 4.6890674353498205e-09, 4.6890674331682524e-09, 2.7008373039825e-06, 4.689067433164821e-09, 4.6889757223757744e-09, 2.5600984077237893e-07]\n",
      "[2.5600984077237893e-07, 4.688975722379573e-09, 4.689067433161022e-09, 4.688966294888551e-09, 4.688966294880955e-09, 4.688966294880955e-09, 4.688966294880955e-09, 4.688966294880955e-09, 4.688966294884754e-09, 4.688966294884754e-09, 4.68896629488502e-09, 4.688966294929831e-09, 5.695758583742408e-09, 1.0150303553355288e-05, 1.3978138711608894e-05, 1.3979053919360941e-05, 1.4661470500451083e-05, 0.005977349393921329, 2.9718960707733765e-06, 4.689385997247671e-09, 2.7008955619058545e-06, 4.6891685780003075e-09, 2.700895560576237e-06, 4.689067435357401e-09, 4.689067433172051e-09, 4.689067433168602e-09, 4.688975722379573e-09, 2.5600984077237893e-07]\n",
      "[2.5600984077237893e-07, 4.688975722371977e-09, 4.688966294885104e-09, 4.688966294880955e-09, 4.688966294880955e-09, 4.688966294880955e-09, 4.688966294880955e-09, 4.688966294888551e-09, 4.689067437535353e-09, 4.689067439872199e-09, 4.68906743770684e-09, 6.078594249811881e-09, 1.0854785166731241e-05, 0.9668313102399936, 0.999980750359281, 0.999986020017508, 0.9999812834098714, 0.9635027867725197, 0.005977483774412671, 2.8331894976365124e-06, 2.7009566769767014e-06, 4.6891685802929395e-09, 2.700895560576237e-06, 4.6890674353536016e-09, 4.6890674331682524e-09, 2.7008373039827013e-06, 4.689076860855039e-09, 2.560098407725863e-07]\n",
      "[2.5600984077237893e-07, 4.688975722371977e-09, 4.688966294881305e-09, 4.688966294880955e-09, 4.688966294880955e-09, 4.688966294880955e-09, 4.688966294884754e-09, 4.689067437535353e-09, 2.7009538222836727e-06, 2.701012082650187e-06, 2.8826806418361493e-06, 2.8886755579766935e-06, 0.9688563348647505, 0.9999759220851271, 0.9999999953099694, 0.9999999953099852, 0.9999999953086665, 0.9999745886847423, 1.4660268986956295e-05, 4.689622198881852e-09, 4.689067437667059e-09, 4.688966294896132e-09, 4.689067435346022e-09, 4.688966294888551e-09, 4.688966294888551e-09, 4.689067433161022e-09, 4.688975722379573e-09, 2.5600984077237893e-07]\n",
      "[2.5600984077237893e-07, 4.688975722371977e-09, 4.688966294881305e-09, 4.688966294880955e-09, 4.688966294880955e-09, 4.688966294880955e-09, 4.688966294884754e-09, 4.689067437535353e-09, 2.7009538222031745e-06, 2.701012117713436e-06, 4.689168593951395e-09, 0.03356881963583568, 0.00639559452519305, 0.9999999953097332, 0.9999813012811297, 0.9999860214805438, 0.9999810209603792, 0.9617621524797811, 1.029502749610336e-05, 4.6893523192046776e-09, 4.689067433178947e-09, 4.688966294888551e-09, 4.688966294884754e-09, 4.688966294880955e-09, 4.688966294880955e-09, 4.688966294885104e-09, 4.688975722371977e-09, 2.5600984077237893e-07]\n",
      "[2.5600984077237893e-07, 4.688975722371977e-09, 4.688966294881305e-09, 4.688966294880955e-09, 4.688966294880955e-09, 4.688966294880955e-09, 4.688966294880955e-09, 4.688966294899929e-09, 4.689269731669248e-09, 2.7008955631004682e-06, 1.0919965970305609e-05, 2.7009599027929576e-06, 0.9999999939961874, 0.005983028643169005, 0.040005019872432324, 1.3979129352721174e-05, 1.4652406493069808e-05, 0.005895038935427933, 4.915801185944872e-09, 4.689067441684306e-09, 2.700837303982505e-06, 4.689067433160672e-09, 4.688966294884754e-09, 4.688966294880955e-09, 4.688966294880955e-09, 4.688966294881322e-09, 4.688975722371977e-09, 2.5600984077237893e-07]\n",
      "[2.5600984077237893e-07, 4.688975722371977e-09, 4.688966294885104e-09, 4.688966294880955e-09, 4.688966294880955e-09, 4.688966294880955e-09, 4.688966294884754e-09, 4.689067433160672e-09, 2.7008373039890587e-06, 4.68969276942117e-09, 4.689067439736046e-09, 0.9999764753436762, 2.7010181654519334e-06, 0.9920121594674357, 4.689516162075579e-09, 4.6903656865060415e-09, 4.68951577364158e-09, 4.915396520554482e-09, 4.688966311883726e-09, 4.688966294888551e-09, 4.689067433160672e-09, 4.688966294888551e-09, 4.688966294880955e-09, 4.688966294880955e-09, 4.688966294880955e-09, 4.688966294881322e-09, 4.6889757223757744e-09, 2.5600984077237893e-07]\n",
      "[2.5600984077237893e-07, 4.688975722379573e-09, 4.689067433161022e-09, 4.688966294888551e-09, 4.688966294880955e-09, 4.688966294880955e-09, 4.688966294880955e-09, 4.688966294888551e-09, 4.689067433183212e-09, 4.6890674331758484e-09, 1.0631451954249887e-05, 2.7009538247187806e-06, 0.999999990560151, 2.700953829686359e-06, 1.3977775343323602e-05, 4.688966294908209e-09, 4.688966294921236e-09, 4.688966303374752e-09, 4.688966294880973e-09, 4.688966294880955e-09, 4.688966294884754e-09, 4.688966294880955e-09, 4.688966294880955e-09, 4.688966294880955e-09, 4.688966294880955e-09, 4.688966294888901e-09, 4.689076861058379e-09, 2.5600984078389583e-07]\n",
      "[2.560098407725863e-07, 4.689076860855039e-09, 2.7008373039827064e-06, 4.689067433160672e-09, 4.688966294884754e-09, 4.688966294880955e-09, 4.688966294880955e-09, 4.688966294884754e-09, 4.689067433164471e-09, 2.7008373218478527e-06, 4.689067433172051e-09, 0.020280776614387014, 2.7009538247209346e-06, 0.9422704028490049, 4.689168586742428e-09, 4.689397711943537e-09, 4.68896629489235e-09, 4.688966294880973e-09, 4.688966294880955e-09, 4.688966294880955e-09, 4.688966294880955e-09, 4.688966294880955e-09, 4.688966294880955e-09, 4.688966294880955e-09, 4.688966294884754e-09, 4.689067433364378e-09, 2.700842734305172e-06, 2.5601536276567326e-07]\n",
      "[2.5600984077237893e-07, 4.688975722379573e-09, 4.689067433161022e-09, 4.688966294888551e-09, 4.688966294880955e-09, 4.688966294880955e-09, 4.688966294880955e-09, 4.688966294880955e-09, 4.688966294888551e-09, 4.689067433160672e-09, 4.688966356888927e-09, 4.688966294896148e-09, 9.507057703836229e-06, 2.7009538234620136e-06, 2.812461237214621e-06, 2.700953824718723e-06, 4.6891685825605005e-09, 4.6889663033866965e-09, 4.688966294901579e-09, 4.688966294895248e-09, 4.688966294880955e-09, 4.688966294880955e-09, 4.688966294880955e-09, 4.688966294880955e-09, 4.688966294880955e-09, 4.688966294888901e-09, 4.689076861058379e-09, 2.5600984078389583e-07]\n",
      "[2.5600984077237893e-07, 4.688975722371977e-09, 4.688966294885104e-09, 4.688966294880955e-09, 4.688966294880955e-09, 4.688966294880955e-09, 4.688966294880955e-09, 4.688966294880955e-09, 4.688966294880955e-09, 4.688966294884754e-09, 4.688966294880955e-09, 4.6889663258932536e-09, 4.688966294896148e-09, 4.882309706282297e-09, 2.7009538247209104e-06, 2.701070343150614e-06, 2.700956653661684e-06, 4.915512424053174e-09, 4.6895157264450134e-09, 4.689346889367321e-09, 4.688966294923801e-09, 4.688966294880955e-09, 4.688966294880955e-09, 4.688966294880955e-09, 4.688966294880955e-09, 4.688966294885104e-09, 4.6889757223757744e-09, 2.5600984077237893e-07]\n",
      "[2.5600984077237893e-07, 4.688975722371977e-09, 4.688966294881305e-09, 4.688966294880955e-09, 4.688966294880955e-09, 4.688966294880955e-09, 4.688966294880955e-09, 4.688966294880955e-09, 4.688966294880955e-09, 4.688966294880955e-09, 4.688966294880955e-09, 4.688966294880955e-09, 4.6889662949019286e-09, 4.6890674331758484e-09, 4.689168582568063e-09, 2.70095664879237e-06, 2.8317092517028312e-06, 0.005895290122928853, 1.4650530721281067e-05, 1.015028925352081e-05, 4.689727512655612e-09, 4.688966294923801e-09, 4.688966294880955e-09, 4.688966294880955e-09, 4.688966294888551e-09, 4.689067433161022e-09, 4.688975722379573e-09, 2.5600984077237893e-07]\n",
      "[2.5600984077237893e-07, 4.688975722371977e-09, 4.688966294881305e-09, 4.688966294880955e-09, 4.688966294880955e-09, 4.688966294880955e-09, 4.688966294880955e-09, 4.688966294880955e-09, 4.688966294880955e-09, 4.688966294880955e-09, 4.688966294880955e-09, 4.688966294884754e-09, 4.689067433160672e-09, 2.700837303993693e-06, 4.689067483460764e-09, 4.690160711154266e-09, 1.4176539130892868e-05, 0.9617646846543509, 0.9999738654654547, 0.9599922933014545, 1.015023463992832e-05, 4.689346887317553e-09, 4.688966294895232e-09, 4.688966294884754e-09, 4.689067433160672e-09, 2.7008373039827013e-06, 4.689076860855039e-09, 2.560098407725863e-07]\n",
      "[2.5600984077237893e-07, 4.688975722371977e-09, 4.688966294881305e-09, 4.688966294880955e-09, 4.688966294880955e-09, 4.688966294880955e-09, 4.688966294880955e-09, 4.688966294880955e-09, 4.688966294880955e-09, 4.688966294880955e-09, 4.688966294880955e-09, 4.688966294880973e-09, 4.688966334672346e-09, 4.68958551142965e-09, 6.028456862408551e-09, 1.4973656830640324e-05, 0.04000071312189784, 0.9999862186002477, 0.9999999953088143, 0.9999807494170455, 1.3977960063715385e-05, 4.689490485788178e-09, 4.688966294900629e-09, 4.688966294880955e-09, 4.688966294888551e-09, 4.689067433161022e-09, 4.688975722383354e-09, 2.5600984077237893e-07]\n",
      "[2.5600984077237893e-07, 4.688975722371977e-09, 4.688966294881305e-09, 4.688966294880955e-09, 4.688966294880955e-09, 4.688966294880955e-09, 4.688966294880955e-09, 4.688966294880955e-09, 4.688966294880955e-09, 4.688966294880973e-09, 4.688966294899546e-09, 4.688966439243492e-09, 5.7490165782448465e-09, 1.381338964389556e-05, 0.03139490038546048, 0.9686056126617141, 0.999986952544305, 0.9999999953100276, 0.99999999530975, 0.9999807500821161, 1.397796017729281e-05, 4.689490485792443e-09, 4.688966294900629e-09, 4.688966294880955e-09, 4.688966294880955e-09, 4.6889662948927e-09, 4.689076861058379e-09, 2.5600984078389583e-07]\n",
      "[2.5600984077237893e-07, 4.688975722371977e-09, 4.688966294881305e-09, 4.688966294880955e-09, 4.688966294880955e-09, 4.688966294880955e-09, 4.688966294880973e-09, 4.688966294880955e-09, 4.688966294906243e-09, 4.68896629493338e-09, 4.689496798982471e-09, 7.477346465365302e-09, 0.025463300811970752, 0.9671295174395347, 0.9999858563062212, 0.9999999939716078, 0.99999999531002, 0.9999999939715389, 0.999985026020317, 0.9599966126330215, 1.0150585380277144e-05, 4.689346900475497e-09, 4.688966294895232e-09, 4.688966294880955e-09, 4.688966294884754e-09, 4.689067433364378e-09, 2.700842734305172e-06, 2.5601536276567326e-07]\n",
      "[2.5600984077237893e-07, 4.688975722371977e-09, 4.688966294881305e-09, 4.688966294880955e-09, 4.688966294880955e-09, 4.688966294896048e-09, 4.688966294880955e-09, 4.689374054675486e-09, 4.688966294934129e-09, 6.028504555832312e-09, 1.320198049549712e-05, 0.03287047681590871, 0.9745365920561068, 0.99999999252246, 0.999997298558677, 0.9999999939714668, 0.9999860225734415, 0.9686050141612166, 0.03139436640314422, 1.3047174379498455e-05, 4.689836211888831e-09, 4.688966294927883e-09, 4.688966294880955e-09, 4.688966294880955e-09, 4.688966294880955e-09, 4.688966294888901e-09, 4.689076861058379e-09, 2.5600984078389583e-07]\n",
      "[2.5600984077237893e-07, 4.688975722371977e-09, 4.688966294881305e-09, 4.688966294880955e-09, 4.688966294923334e-09, 4.688966294884754e-09, 6.028142517812341e-09, 4.689067437703159e-09, 1.7967342593869864e-05, 1.08549857300116e-05, 0.9686056669225502, 0.9999852016045796, 0.9999999942509823, 0.9999999942509752, 0.9999861863257029, 0.9686052206282302, 0.031394885363717207, 1.3977404088596248e-05, 6.028383063185365e-09, 4.6894556168486114e-09, 4.688966294931947e-09, 4.688966294880955e-09, 4.688966294880955e-09, 4.688966294880955e-09, 4.688966294884754e-09, 4.688966294881322e-09, 4.6889757223757744e-09, 2.5600984077238026e-07]\n",
      "[2.5600984077237893e-07, 4.688975722371977e-09, 4.688966294881305e-09, 4.688966294920453e-09, 4.68896629489235e-09, 1.0726317913603261e-05, 4.6891685847055486e-09, 0.9686028300040888, 2.8887412396062e-06, 0.9999891255508584, 0.9999759222257052, 0.999999995309985, 0.9999999925223994, 0.9745366991559795, 0.03287043754823224, 1.4143402325137516e-05, 6.028416096589781e-09, 4.689490515147032e-09, 4.688966345144463e-09, 4.688966294899313e-09, 4.688966294880955e-09, 4.688966294880955e-09, 4.688966294880955e-09, 4.688966294888551e-09, 4.689067433160672e-09, 4.6889662948927e-09, 4.68897572237201e-09, 2.5600984139012403e-07]\n",
      "[2.5600984077237893e-07, 4.688975722371977e-09, 4.688966294893516e-09, 4.68896629489235e-09, 8.673822575792088e-06, 2.7009538234599075e-06, 0.9999817827434125, 2.701073410840083e-06, 0.9999999953098355, 0.006395658698790712, 0.9999999939714954, 0.9999756789444953, 0.9671295231823731, 0.025462564359082604, 7.477378737185223e-09, 4.6894967969196425e-09, 4.688966345145945e-09, 4.688966294900629e-09, 4.688966294880973e-09, 4.688966294880955e-09, 4.688966294880955e-09, 4.688966294880955e-09, 4.688966294884754e-09, 4.689067433160672e-09, 2.7008373039868704e-06, 4.689168573622233e-09, 4.6889757339049665e-09, 2.563114625632296e-07]\n",
      "[2.5600984077237893e-07, 4.6889757223719926e-09, 4.688966294885104e-09, 4.874215482475051e-09, 2.7008955630939096e-06, 0.9370737084245254, 2.7010120850804683e-06, 0.999986019998931, 2.70102122181976e-06, 0.9999820316376279, 0.0059829534275194305, 0.03139433299145951, 1.0746402981451167e-05, 5.74901760568136e-09, 4.688966439235196e-09, 4.688966294900879e-09, 4.688966294880973e-09, 4.688966294880955e-09, 4.688966294880955e-09, 4.688966294880955e-09, 4.688966294880955e-09, 4.688966294880955e-09, 4.688966294880955e-09, 4.68896629489235e-09, 4.689168573621883e-09, 2.7008373041064422e-06, 4.69460136769353e-09, 0.00014743996500593377]\n",
      "[2.560098408299385e-07, 4.6889757223723425e-09, 4.6889662950889045e-09, 4.688966294888901e-09, 4.874544802242064e-09, 4.689067439724951e-09, 1.3977336611335192e-05, 4.689067439725151e-09, 1.3978977696125459e-05, 4.689077990910726e-09, 1.0874102075277158e-05, 4.689516122763495e-09, 4.689484359846262e-09, 4.688966334654237e-09, 4.688966294881322e-09, 4.688966294881322e-09, 4.688966294881322e-09, 4.688966294881322e-09, 4.688966294881322e-09, 4.688966294881322e-09, 4.688966294881322e-09, 4.688966294881322e-09, 4.688966294881322e-09, 4.688966294881322e-09, 4.6889662948927e-09, 4.6890674331613885e-09, 4.688975734108785e-09, 2.563114626209262e-07]\n",
      "[2.560379449412448e-07, 4.6889851635126025e-09, 4.694500110054235e-09, 4.688975733893589e-09, 4.688975722375792e-09, 4.689292526697066e-09, 4.6889757223757744e-09, 4.689499952510027e-09, 4.6889757223757744e-09, 4.6894999227542625e-09, 4.688975730995528e-09, 4.688975784147153e-09, 4.694500110067761e-09, 4.688975733893589e-09, 4.6889757223719926e-09, 4.688975722371977e-09, 4.688975722371977e-09, 4.688975722371977e-09, 4.688975722371977e-09, 4.688975722371977e-09, 4.688975722371977e-09, 4.688975722371977e-09, 4.688975722371977e-09, 4.688975722371977e-09, 4.6889757223719926e-09, 4.688975733899003e-09, 4.6945101582209074e-09, 2.560379793045265e-07]\n",
      "[1.3977471418123256e-05, 2.563395998434964e-07, 0.00014743996503899766, 2.5631146256329746e-07, 2.5600984139012403e-07, 2.5600984077238026e-07, 2.560098407734526e-07, 2.5600984077237893e-07, 2.560098407734531e-07, 2.5600984077238026e-07, 2.5600984139095894e-07, 2.5631146256322916e-07, 0.0001474399650058141, 2.5631146256322916e-07, 2.5600984139012403e-07, 2.5600984077238026e-07, 2.5600984077237893e-07, 2.5600984077237893e-07, 2.5600984077237893e-07, 2.5600984077237893e-07, 2.5600984077237893e-07, 2.5600984077237893e-07, 2.5600984077237893e-07, 2.5600984077238026e-07, 2.560098413901922e-07, 2.563114957859162e-07, 0.00014745616731145567, 1.3993940734084305e-05]\n"
     ]
    },
    {
     "data": {
      "text/plain": "<Figure size 432x288 with 1 Axes>",
      "image/png": "[encoded data removed]"
     },
     "metadata": {
      "needs_background": "light"
     },
     "output_type": "display_data"
    }
   ],
   "source": [
    "def boltzman_meanfield(images, initial_pi, theta_X=0.5*np.log(1/noise_flip_prob-1), theta_pi=2, iterations=100):\n",
    "    \"\"\"\n",
    "    Implements the meanfield approximation to the Boltzman machine.\n",
    "\n",
    "    Parameters\n",
    "    ----------\n",
    "    images: A numpy array with the shape (N,height,width).\n",
    "    initial_pi: A numpy array with the same shape as images (i.e. (N,height,width)).\n",
    "    theta_X: A scalar value representing 𝜃^(2)_ii.\n",
    "    theta_pi: A scalar value representing 𝜃^(1)_ij.\n",
    "    iterations: A scalar denoteing the number of update iterations to perform.\n",
    "\n",
    "    Returns\n",
    "    -------\n",
    "    pi: A numpy array containing values only between 0 and 1.\n",
    "    \"\"\"\n",
    "\n",
    "    if len(images.shape)==2:\n",
    "        # In case a 2d image was given as input, we'll add a dummy dimension to be consistent\n",
    "        X = images.reshape(1,*images.shape)\n",
    "    else:\n",
    "        # Otherwise, we'll just work with what's given\n",
    "        X = images\n",
    "\n",
    "    pi = initial_pi\n",
    "    print(X.dtype)\n",
    "    print(pi.dtype)\n",
    "    print(theta_X.dtype)\n",
    "    #print(theta_pi.dtype)\n",
    "    # your code here\n",
    "    N, r, c = X.shape\n",
    "    N_rows = np.zeros((N,1,c), dtype='float64')\n",
    "    N_cols = np.zeros((N,r,1), dtype='float64')\n",
    "    for iter in range(iterations):\n",
    "        pi_ = theta_pi * (2*pi - 1)\n",
    "        pi_shift_down = np.concatenate([N_rows, pi_[:,0:-1,:]], axis=1)\n",
    "        pi_shift_up = np.concatenate([pi_[:,1:,:], N_rows], axis=1)\n",
    "        pi_shift_left = np.concatenate([pi_[:,:,1:], N_cols], axis=2)\n",
    "        pi_shift_right = np.concatenate([N_cols, pi_[:,:,:-1]], axis=2)\n",
    "        sum_neighbors = pi_shift_down + pi_shift_up + pi_shift_left + pi_shift_right\n",
    "        term_to_be_sigmoid = (theta_X * X) + sum_neighbors\n",
    "        \n",
    "        pi = sigmoid_2x(term_to_be_sigmoid)\n",
    "        #print(sum_neighbors.shape)\n",
    "\n",
    "\n",
    "    return pi.reshape(*images.shape)\n",
    "\n",
    "def test_boltzman(x, seed = 12345, theta_X=0.5*np.log(1/noise_flip_prob-1), theta_pi=2, iterations=100):\n",
    "    np_random = np.random.RandomState(seed=seed)\n",
    "    initial_pi = np_random.uniform(0,1, size=x.shape)\n",
    "    return boltzman_meanfield(x, initial_pi, theta_X=theta_X,\n",
    "                              theta_pi=theta_pi, iterations=iterations)\n",
    "\n",
    "single_result = test_boltzman(X_noised[:, :, :])\n",
    "\n",
    "plt.imshow(single_result[0], cmap='Greys')\n",
    "show(single_result[0])"
   ],
   "metadata": {
    "collapsed": false,
    "pycharm": {
     "name": "#%%\n"
    }
   }
  }
 ],
 "metadata": {
  "kernelspec": {
   "display_name": "Python 3",
   "language": "python",
   "name": "python3"
  },
  "language_info": {
   "codemirror_mode": {
    "name": "ipython",
    "version": 2
   },
   "file_extension": ".py",
   "mimetype": "text/x-python",
   "name": "python",
   "nbconvert_exporter": "python",
   "pygments_lexer": "ipython2",
   "version": "2.7.6"
  }
 },
 "nbformat": 4,
 "nbformat_minor": 0
}