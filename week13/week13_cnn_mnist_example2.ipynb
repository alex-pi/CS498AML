{
 "cells": [
  {
   "cell_type": "code",
   "execution_count": 1,
   "metadata": {
    "collapsed": true
   },
   "outputs": [],
   "source": [
    "import torch\n",
    "from torch import nn\n",
    "from torch import optim\n",
    "from torchvision import datasets, utils\n",
    "import torchvision.transforms as transforms\n",
    "from torch.utils.data import random_split, DataLoader\n",
    "import torch.nn.functional as F\n",
    "\n",
    "import matplotlib.pyplot as plt\n",
    "\n",
    "import numpy as np\n",
    "import pdb"
   ]
  },
  {
   "cell_type": "code",
   "execution_count": 2,
   "outputs": [],
   "source": [
    "model1 = nn.Sequential(\n",
    "    nn.Linear(28 * 28, 64),\n",
    "    nn.ReLU(),\n",
    "    nn.Linear(64, 64),\n",
    "    nn.ReLU(),\n",
    "    nn.Linear(64, 10),\n",
    ")"
   ],
   "metadata": {
    "collapsed": false,
    "pycharm": {
     "name": "#%%\n"
    }
   }
  },
  {
   "cell_type": "code",
   "execution_count": 3,
   "outputs": [],
   "source": [
    "class ResNet(nn.Module):\n",
    "    def __init__(self):\n",
    "        super().__init__()\n",
    "        self.l1 = nn.Linear(28 * 28, 64)\n",
    "        self.l2 = nn.Linear(64, 64)\n",
    "        self.l3 = nn.Linear(64, 10)\n",
    "        self.do = nn.Dropout(0.1)\n",
    "        self.flat_input = True\n",
    "\n",
    "    def forward(self, x):\n",
    "        h1 = F.relu(self.l1(x))\n",
    "        h2 = F.relu(self.l2(h1))\n",
    "        #drop = self.do(h1 + h2)\n",
    "        logits = self.l3(h2)\n",
    "        return logits\n",
    "\n",
    "model2 = ResNet()"
   ],
   "metadata": {
    "collapsed": false,
    "pycharm": {
     "name": "#%%\n"
    }
   }
  },
  {
   "cell_type": "code",
   "execution_count": 4,
   "outputs": [],
   "source": [
    "class Net(nn.Module):\n",
    "    def __init__(self):\n",
    "        super(Net, self).__init__()\n",
    "        self.conv1 = nn.Conv2d(1, 10, kernel_size=5)\n",
    "        self.conv2 = nn.Conv2d(10, 20, kernel_size=5)\n",
    "        self.conv2_drop = nn.Dropout2d()\n",
    "        self.fc1 = nn.Linear(320, 50)\n",
    "        self.fc2 = nn.Linear(50, 10)\n",
    "        self.flat_input = False\n",
    "\n",
    "    def forward(self, x):\n",
    "        x = F.relu(F.max_pool2d(self.conv1(x), 2))\n",
    "        #x = F.relu(F.max_pool2d(self.conv2_drop(self.conv2(x)), 2))\n",
    "        x = F.relu(F.max_pool2d(self.conv2(x), 2))\n",
    "        x = x.view(-1, 320)\n",
    "        x = F.relu(self.fc1(x))\n",
    "        #x = F.dropout(x, training=self.training)\n",
    "        x = self.fc2(x)\n",
    "        #return F.softmax(x)\n",
    "        return x\n",
    "\n",
    "model = Net()"
   ],
   "metadata": {
    "collapsed": false,
    "pycharm": {
     "name": "#%%\n"
    }
   }
  },
  {
   "cell_type": "code",
   "execution_count": 5,
   "outputs": [],
   "source": [
    "optimizer = optim.SGD(model.parameters(), lr=1e-2, momentum=0.7)"
   ],
   "metadata": {
    "collapsed": false,
    "pycharm": {
     "name": "#%%\n"
    }
   }
  },
  {
   "cell_type": "code",
   "execution_count": 6,
   "outputs": [],
   "source": [
    "criterion = nn.CrossEntropyLoss()"
   ],
   "metadata": {
    "collapsed": false,
    "pycharm": {
     "name": "#%%\n"
    }
   }
  },
  {
   "cell_type": "code",
   "execution_count": 7,
   "outputs": [],
   "source": [
    "transform1 = transforms.Compose(\n",
    "    [#transforms.RandomAffine(degrees=60, translate=(0.2, 0.2), scale=(0.5, 2.),\n",
    "     #                                          shear=None, resample=0, fillcolor=0),\n",
    "                       transforms.ToTensor(),\n",
    "                       transforms.Normalize((0.5,), (0.5,))])\n",
    "\n",
    "transform2 = transforms.Compose(\n",
    "    [transforms.RandomAffine(degrees=60, translate=(0.2, 0.2), scale=(0.5, 2.),\n",
    "                                               shear=None, resample=0, fillcolor=0),\n",
    "                       transforms.ToTensor(),\n",
    "                       transforms.Normalize((0.5,), (0.5,))])\n",
    "\n",
    "batch_size = 16\n",
    "\n",
    "train_data = datasets.MNIST(root='./data-mnist', train=True,\n",
    "                                        download=False, transform=transform2)\n",
    "#train, val = random_split(train_data, [55000, 5000])\n",
    "\n",
    "val_data = datasets.MNIST(root='./data-mnist', train=False,\n",
    "                                       download=False, transform=transform2)\n",
    "\n",
    "\n",
    "train_loader = DataLoader(train_data, batch_size=batch_size,\n",
    "                                          shuffle=True, num_workers=2)\n",
    "\n",
    "val_loader = DataLoader(val_data, batch_size=batch_size,\n",
    "                                          shuffle=False, num_workers=2)"
   ],
   "metadata": {
    "collapsed": false,
    "pycharm": {
     "name": "#%%\n"
    }
   }
  },
  {
   "cell_type": "code",
   "execution_count": 8,
   "outputs": [],
   "source": [
    "def imshow(img):\n",
    "    img = img / 2 + 0.5     # unnormalize\n",
    "    npimg = img.numpy()\n",
    "    plt.imshow(np.transpose(npimg, (1, 2, 0)))\n",
    "    plt.show()\n",
    "\n",
    "classes = ('0', '1', '2', '3',\n",
    "           '4', '5', '6', '7', '8', '9')"
   ],
   "metadata": {
    "collapsed": false,
    "pycharm": {
     "name": "#%%\n"
    }
   }
  },
  {
   "cell_type": "code",
   "execution_count": 9,
   "outputs": [],
   "source": [
    "def init_weights(m):\n",
    "    if type(m) == nn.Linear:\n",
    "        print('Applying weights')\n",
    "        torch.nn.init.xavier_uniform(m.weight)\n",
    "        m.bias.data.fill_(0.01)\n"
   ],
   "metadata": {
    "collapsed": false,
    "pycharm": {
     "name": "#%%\n"
    }
   }
  },
  {
   "cell_type": "code",
   "execution_count": 10,
   "outputs": [
    {
     "name": "stdout",
     "output_type": "stream",
     "text": [
      "Applying weights\n",
      "Applying weights\n",
      "[1,  1000] loss: 0.975\n",
      "[1,  2000] loss: 0.672\n",
      "[1,  3000] loss: 0.533\n",
      "Epoch 1, train loss:  1.350\n",
      "Epoch 1, val loss:  0.892\n",
      "[2,  1000] loss: 0.419\n",
      "[2,  2000] loss: 0.389\n",
      "[2,  3000] loss: 0.358\n",
      "Epoch 2, train loss:  0.759\n",
      "Epoch 2, val loss:  0.645\n",
      "[3,  1000] loss: 0.326\n",
      "[3,  2000] loss: 0.315\n",
      "[3,  3000] loss: 0.309\n",
      "Epoch 3, train loss:  0.622\n",
      "Epoch 3, val loss:  0.572\n",
      "[4,  1000] loss: 0.295\n",
      "[4,  2000] loss: 0.285\n",
      "[4,  3000] loss: 0.278\n",
      "Epoch 4, train loss:  0.566\n",
      "Epoch 4, val loss:  0.490\n"
     ]
    },
    {
     "name": "stderr",
     "output_type": "stream",
     "text": [
      "c:\\users\\alejanpi\\appdata\\local\\programs\\python\\python37\\lib\\site-packages\\ipykernel_launcher.py:4: UserWarning: nn.init.xavier_uniform is now deprecated in favor of nn.init.xavier_uniform_.\n",
      "  after removing the cwd from sys.path.\n"
     ]
    }
   ],
   "source": [
    "nb_epochs = 4\n",
    "model.apply(init_weights)\n",
    "for epoch in range(nb_epochs):\n",
    "    losses = list()\n",
    "    running_loss = 0.0\n",
    "    model.train()\n",
    "    for i, batch in enumerate(train_loader, 0):\n",
    "        x, y = batch\n",
    "\n",
    "        if model.flat_input:\n",
    "            b = x.size(0)\n",
    "            x = x.view(b, -1)\n",
    "\n",
    "        # 1 forward (get the \"logits\", output of the nn\n",
    "        l = model(x)\n",
    "        # 2 compute objective function\n",
    "        J = criterion(l, y)\n",
    "\n",
    "        #pdb.set_trace()\n",
    "        # 3 cleaning the gradients\n",
    "        # params.grad._xero()\n",
    "        model.zero_grad()\n",
    "\n",
    "        # 4 accumulate the partial derivatives of J wrt params\n",
    "        # same as params.grad.add_(dJ/dparams)\n",
    "        J.backward()\n",
    "\n",
    "        # 5 step in the opposite direction of the gradient\n",
    "        # same as -> with torch.no_grad(): params = params - eta * params.grad\n",
    "        optimizer.step()\n",
    "\n",
    "        losses.append(J.item())\n",
    "\n",
    "        running_loss += J.item()\n",
    "        if i % 1000 == 999:    # print every 2000 mini-batches\n",
    "            print('[%d, %5d] loss: %.3f' %\n",
    "                  (epoch + 1, i + 1, running_loss / 2000))\n",
    "            running_loss = 0.0\n",
    "\n",
    "    print(f'Epoch {epoch + 1}, train loss:  {torch.tensor(losses).mean():.3f}')\n",
    "\n",
    "    losses = list()\n",
    "    model.eval()\n",
    "    for batch in val_loader:\n",
    "        x, y = batch\n",
    "\n",
    "        if model.flat_input:\n",
    "            b = x.size(0)\n",
    "            x = x.view(b, -1)\n",
    "\n",
    "        # 1 forward (get the \"logits\", output of the nn\n",
    "        # Evaluation without creating gradient\n",
    "        with torch.no_grad():\n",
    "            l = model(x)\n",
    "\n",
    "        # 2 compute objective function\n",
    "        # Without gradient, this J is just a tensor (no grad connected to it)\n",
    "        J = criterion(l, y)\n",
    "\n",
    "        losses.append(J.item())\n",
    "\n",
    "    print(f'Epoch {epoch + 1}, val loss:  {torch.tensor(losses).mean():.3f}')"
   ],
   "metadata": {
    "collapsed": false,
    "pycharm": {
     "name": "#%%\n"
    }
   }
  },
  {
   "cell_type": "code",
   "execution_count": 11,
   "outputs": [],
   "source": [
    "PATH = './cifar_net.pth'\n",
    "torch.save(model.state_dict(), PATH)\n"
   ],
   "metadata": {
    "collapsed": false,
    "pycharm": {
     "name": "#%%\n"
    }
   }
  },
  {
   "cell_type": "code",
   "execution_count": 12,
   "outputs": [
    {
     "data": {
      "text/plain": "<Figure size 432x288 with 1 Axes>",
      "image/png": "[encoded data removed]"
     },
     "metadata": {
      "needs_background": "light"
     },
     "output_type": "display_data"
    },
    {
     "name": "stdout",
     "output_type": "stream",
     "text": [
      "GroundTruth:      7     2     1     0     4     1     4     9     5     9     0     6     9     0     1     5\n",
      "Predicted:      7     2     1     0     4     1     4     9     4     9     0     6     9     0     1     5\n"
     ]
    }
   ],
   "source": [
    "dataiter = iter(val_loader)\n",
    "images, labels = dataiter.next()\n",
    "\n",
    "#model = Net()\n",
    "#model.load_state_dict(torch.load(PATH))\n",
    "#outputs = model(images)\n",
    "\n",
    "# print images\n",
    "imshow(utils.make_grid(images))\n",
    "print('GroundTruth: ', ' '.join('%5s' % classes[labels[j]] for j in range(batch_size)))\n",
    "x = images\n",
    "if model.flat_input:\n",
    "    x = images.view(images.size(0), -1)\n",
    "outputs = model(x)\n",
    "_, predicted = torch.max(outputs, 1)\n",
    "\n",
    "print('Predicted: ', ' '.join('%5s' % classes[predicted[j]]\n",
    "                              for j in range(batch_size)))"
   ],
   "metadata": {
    "collapsed": false,
    "pycharm": {
     "name": "#%%\n"
    }
   }
  },
  {
   "cell_type": "code",
   "execution_count": 13,
   "outputs": [
    {
     "name": "stdout",
     "output_type": "stream",
     "text": [
      "Accuracy of the network on the 10000 test images: 84 %\n"
     ]
    }
   ],
   "source": [
    "correct = 0\n",
    "total = 0\n",
    "with torch.no_grad():\n",
    "    for data in val_loader:\n",
    "        images, labels = data\n",
    "        x = images\n",
    "        if model.flat_input:\n",
    "            x = images.view(images.size(0), -1)\n",
    "        outputs = model(x)\n",
    "        _, predicted = torch.max(outputs.data, 1)\n",
    "        total += labels.size(0)\n",
    "        correct += (predicted == labels).sum().item()\n",
    "\n",
    "print('Accuracy of the network on the 10000 test images: %d %%' % (\n",
    "    100 * correct / total))"
   ],
   "metadata": {
    "collapsed": false,
    "pycharm": {
     "name": "#%%\n"
    }
   }
  },
  {
   "cell_type": "code",
   "execution_count": 14,
   "outputs": [
    {
     "name": "stdout",
     "output_type": "stream",
     "text": [
      "Accuracy of     0 : 88 %\n",
      "Accuracy of     1 : 98 %\n",
      "Accuracy of     2 : 81 %\n",
      "Accuracy of     3 : 77 %\n",
      "Accuracy of     4 : 83 %\n",
      "Accuracy of     5 : 72 %\n",
      "Accuracy of     6 : 86 %\n",
      "Accuracy of     7 : 78 %\n",
      "Accuracy of     8 : 81 %\n",
      "Accuracy of     9 : 80 %\n"
     ]
    }
   ],
   "source": [
    "class_correct = list(0. for i in range(10))\n",
    "class_total = list(0. for i in range(10))\n",
    "with torch.no_grad():\n",
    "    for data in val_loader:\n",
    "        images, labels = data\n",
    "        x = images\n",
    "        if model.flat_input:\n",
    "            x = images.view(images.size(0), -1)\n",
    "        outputs = model(x)\n",
    "        _, predicted = torch.max(outputs, 1)\n",
    "        c = (predicted == labels).squeeze()\n",
    "        for i in range(4):\n",
    "            label = labels[i]\n",
    "            class_correct[label] += c[i].item()\n",
    "            class_total[label] += 1\n",
    "\n",
    "\n",
    "for i in range(len(classes)):\n",
    "    print('Accuracy of %5s : %2d %%' % (\n",
    "        classes[i], 100 * class_correct[i] / class_total[i]))"
   ],
   "metadata": {
    "collapsed": false,
    "pycharm": {
     "name": "#%%\n"
    }
   }
  },
  {
   "cell_type": "code",
   "execution_count": 14,
   "outputs": [],
   "source": [],
   "metadata": {
    "collapsed": false,
    "pycharm": {
     "name": "#%%\n"
    }
   }
  }
 ],
 "metadata": {
  "kernelspec": {
   "display_name": "Python 3",
   "language": "python",
   "name": "python3"
  },
  "language_info": {
   "codemirror_mode": {
    "name": "ipython",
    "version": 2
   },
   "file_extension": ".py",
   "mimetype": "text/x-python",
   "name": "python",
   "nbconvert_exporter": "python",
   "pygments_lexer": "ipython2",
   "version": "2.7.6"
  }
 },
 "nbformat": 4,
 "nbformat_minor": 0
}